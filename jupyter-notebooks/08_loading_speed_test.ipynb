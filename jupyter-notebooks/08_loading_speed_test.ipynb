{
 "cells": [
  {
   "cell_type": "markdown",
   "metadata": {},
   "source": [
    "This notebook times the difference between librosa's load function and numpy's load function.\n",
    "The faster of the two is chosen for the DataGenerator."
   ]
  },
  {
   "cell_type": "code",
   "execution_count": 4,
   "metadata": {},
   "outputs": [],
   "source": [
    "import os\n",
    "from os.path import join\n",
    "from typing import List\n",
    "\n",
    "import librosa\n",
    "import numpy as np\n",
    "\n",
    "from utils import Timer\n",
    "from utils.constants import SAMPLE_RATE\n",
    "\n",
    "PATH_TO_AUDIO_DATA_SET: str = '../../data-sets/processed_dataset'\n",
    "PATH_TO_NUMPY_DATA_SET: str = '../../data-sets/processed_dataset_numpy'"
   ]
  },
  {
   "cell_type": "markdown",
   "metadata": {},
   "source": [
    "### Librosa Load"
   ]
  },
  {
   "cell_type": "code",
   "execution_count": 2,
   "metadata": {
    "pycharm": {
     "name": "#%%\n"
    }
   },
   "outputs": [
    {
     "name": "stdout",
     "output_type": "stream",
     "text": [
      "flute: 4.4712 seconds\n",
      "guitar: 57.5286 seconds\n",
      "string: 44.3249 seconds\n",
      "bass: 18.6763 seconds\n",
      "brass: 30.5929 seconds\n",
      "piano: 14.639 seconds\n",
      "strings: 4.7515 seconds\n",
      "vocal: 10.3285 seconds\n",
      "synth: 12.3647 seconds\n",
      "organ: 94.0101 seconds\n",
      "reed: 42.8214 seconds\n"
     ]
    }
   ],
   "source": [
    "ontology: List[str] = os.listdir(PATH_TO_AUDIO_DATA_SET)\n",
    "\n",
    "for instrument in ontology:\n",
    "    path_to_samples: str = join(PATH_TO_AUDIO_DATA_SET, instrument)\n",
    "\n",
    "    with Timer() as timer:\n",
    "        for sample in os.listdir(path_to_samples):  # Loop through all samples and load the data using librosa.\n",
    "            path_to_single_sample: str = join(path_to_samples, sample)\n",
    "\n",
    "            librosa.load(path_to_single_sample, mono=True, sr=SAMPLE_RATE)\n",
    "\n",
    "    print(f'{instrument}: {round(timer.elapsed, 4)} seconds')"
   ]
  },
  {
   "cell_type": "markdown",
   "metadata": {},
   "source": [
    "### Numpy Load"
   ]
  },
  {
   "cell_type": "code",
   "execution_count": 3,
   "metadata": {
    "pycharm": {
     "name": "#%%\n"
    }
   },
   "outputs": [
    {
     "name": "stdout",
     "output_type": "stream",
     "text": [
      "flute: 18.8751 seconds\n",
      "guitar: 94.6811 seconds\n",
      "string: 66.2246 seconds\n",
      "bass: 28.1576 seconds\n",
      "brass: 46.2456 seconds\n",
      "piano: 22.2618 seconds\n",
      "strings: 6.5311 seconds\n",
      "vocal: 15.2019 seconds\n",
      "synth: 18.6608 seconds\n",
      "organ: 139.5007 seconds\n",
      "reed: 66.0808 seconds\n"
     ]
    }
   ],
   "source": [
    "ontology: List[str] = os.listdir(PATH_TO_NUMPY_DATA_SET)\n",
    "\n",
    "for instrument in ontology:\n",
    "    path_to_samples: str = join(PATH_TO_NUMPY_DATA_SET, instrument)\n",
    "\n",
    "    with Timer() as timer:\n",
    "        for sample in os.listdir(path_to_samples):  # Loop through all samples and load the data using librosa.\n",
    "            path_to_single_sample: str = join(path_to_samples, sample)\n",
    "\n",
    "            np.load(path_to_single_sample)\n",
    "\n",
    "    print(f'{instrument}: {round(timer.elapsed, 4)} seconds')"
   ]
  }
 ],
 "metadata": {
  "kernelspec": {
   "display_name": "Python 3",
   "language": "python",
   "name": "python3"
  },
  "language_info": {
   "codemirror_mode": {
    "name": "ipython",
    "version": 3
   },
   "file_extension": ".py",
   "mimetype": "text/x-python",
   "name": "python",
   "nbconvert_exporter": "python",
   "pygments_lexer": "ipython3",
   "version": "3.8.10"
  }
 },
 "nbformat": 4,
 "nbformat_minor": 1
}