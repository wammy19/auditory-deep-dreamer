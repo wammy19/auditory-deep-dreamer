{
 "cells": [
  {
   "cell_type": "code",
   "execution_count": 35,
   "metadata": {
    "pycharm": {
     "name": "#%%\n"
    }
   },
   "outputs": [],
   "source": [
    "from glob import glob\n",
    "import numpy as np\n",
    "import os\n",
    "from sklearn.preprocessing import LabelEncoder\n",
    "from tensorflow.keras.utils import to_categorical\n",
    "from typing import List\n",
    "from utils.constants import NOTE_TABLE\n",
    "\n",
    "PATH_TO_DATASET: str = '../../data-sets/processed_dataset'"
   ]
  },
  {
   "cell_type": "code",
   "execution_count": 36,
   "outputs": [],
   "source": [
    "# Gather paths to each '.wav' file.\n",
    "wav_paths: List[str] = glob(f'{PATH_TO_DATASET}/**', recursive=True)\n",
    "wav_paths = [x.replace(os.sep, '/') for x in wav_paths if '.wav' in x]"
   ],
   "metadata": {
    "collapsed": false,
    "pycharm": {
     "name": "#%%\n"
    }
   }
  },
  {
   "cell_type": "code",
   "execution_count": 31,
   "outputs": [
    {
     "data": {
      "text/plain": "array([2, 2, 2, ..., 6, 6, 6])"
     },
     "execution_count": 31,
     "metadata": {},
     "output_type": "execute_result"
    }
   ],
   "source": [
    "# Instrument encoding.\n",
    "instrument_classes: List[str] = sorted(os.listdir(PATH_TO_DATASET))  # Example: ['string', 'reed']\n",
    "n_instrument_classes: int = len(instrument_classes)\n",
    "instrument_label_encoder = LabelEncoder()\n",
    "instrument_label_encoder.fit(instrument_classes)\n",
    "pre_encode_instrument_labels: List[str] = [os.path.split(x)[0].split('/')[-1] for x in wav_paths]\n",
    "instrument_labels: np.ndarray = instrument_label_encoder.transform(pre_encode_instrument_labels)\n",
    "instrument_labels"
   ],
   "metadata": {
    "collapsed": false,
    "pycharm": {
     "name": "#%%\n"
    }
   }
  },
  {
   "cell_type": "code",
   "execution_count": 37,
   "outputs": [
    {
     "name": "stdout",
     "output_type": "stream",
     "text": [
      "['A#', 'A#', 'A#', 'A#', 'A#', 'A#', 'A#', 'A#', 'A#', 'A#']\n"
     ]
    }
   ],
   "source": [
    "# Pitch encoding.\n",
    "pitch_classes: List[str] = sorted(NOTE_TABLE)  # Example: ['C', 'A#']\n",
    "n_pitch_classes: int = len(NOTE_TABLE)\n",
    "pitch_label_encoder = LabelEncoder()\n",
    "pitch_label_encoder.fit(pitch_classes)\n",
    "pre_encode_pitch_labels: List[str] = [os.path.split(wav_paths[101])[1].split('_')[1] for x in wav_paths]\n",
    "pitch_labels: np.ndarray = pitch_label_encoder.transform(pre_encode_pitch_labels)\n",
    "\n",
    "x = -50_000\n",
    "print(pre_encode_pitch_labels[x:x+10])\n",
    "# pre_encoded_note_labels: List[str] = [os.path.split(x)[0].split('/')[-1] for x in wav_paths]\n",
    "\n",
    "# os.path.split(wav_paths[101])[1].split('_')[1]"
   ],
   "metadata": {
    "collapsed": false,
    "pycharm": {
     "name": "#%%\n"
    }
   }
  }
 ],
 "metadata": {
  "kernelspec": {
   "display_name": "Python 3",
   "language": "python",
   "name": "python3"
  },
  "language_info": {
   "codemirror_mode": {
    "name": "ipython",
    "version": 3
   },
   "file_extension": ".py",
   "mimetype": "text/x-python",
   "name": "python",
   "nbconvert_exporter": "python",
   "pygments_lexer": "ipython3",
   "version": "3.8.10"
  }
 },
 "nbformat": 4,
 "nbformat_minor": 1
}