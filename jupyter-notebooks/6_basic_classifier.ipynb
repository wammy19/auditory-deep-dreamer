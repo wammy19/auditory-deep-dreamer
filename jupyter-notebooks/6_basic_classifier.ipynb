{
 "cells": [
  {
   "cell_type": "markdown",
   "metadata": {
    "collapsed": true,
    "pycharm": {
     "name": "#%% md\n"
    }
   },
   "source": [
    "Source: https://www.youtube.com/watch?v=SQ1iIKs190Q&list=PL-wATfeyAMNoirN4idjev6aRu8ISZYVWm&index=9"
   ]
  },
  {
   "cell_type": "code",
   "execution_count": null,
   "outputs": [],
   "source": [
    "from kapre.composed import get_melspectrogram_layer\n",
    "import pickle\n",
    "from tensorflow.keras import Sequential\n",
    "from tensorflow.keras.layers import Conv2D, Dense\n",
    "from tensorflow.keras.losses import binary_crossentropy\n",
    "from tensorflow.keras.activations import relu, softmax\n",
    "from typing import Tuple\n",
    "import utils.constants as consts"
   ],
   "metadata": {
    "collapsed": false,
    "pycharm": {
     "name": "#%%\n"
    }
   }
  },
  {
   "cell_type": "markdown",
   "source": [
    "#### Load data from previous notebook"
   ],
   "metadata": {
    "collapsed": false,
    "pycharm": {
     "name": "#%% md\n"
    }
   }
  },
  {
   "cell_type": "code",
   "execution_count": null,
   "outputs": [],
   "source": [],
   "metadata": {
    "collapsed": false,
    "pycharm": {
     "name": "#%%\n"
    }
   }
  },
  {
   "cell_type": "code",
   "execution_count": null,
   "outputs": [],
   "source": [
    "def build_vgg_model() -> Sequential:\n",
    "    \"\"\"\n",
    "    :return:\n",
    "    \"\"\"\n",
    "\n",
    "    input_shape: Tuple[int, int] = (consts.SAMPLE_RATE, 1.0,)  # Mono audio so 1 channel.\n",
    "\n",
    "    mel_layer: Sequential = get_melspectrogram_layer(\n",
    "        input_shape=input_shape,\n",
    "        n_fft=consts.NUM_FFT,\n",
    "        hop_length=consts.MEL_HOP_LEN,\n",
    "        sample_rate=consts.SAMPLE_RATE,\n",
    "        return_decibel=True,\n",
    "        input_data_format='channels_last',\n",
    "        output_data_format='channels_last'\n",
    "    )\n",
    "\n",
    "    model = Sequential()\n",
    "\n",
    "    model.add(mel_layer)\n",
    "    model.add(Conv2D(\n",
    "        16,\n",
    "        (3, 3),\n",
    "        strides=(1, 1),\n",
    "        padding=2,\n",
    "        kernel_size=3\n",
    "    ))\n",
    "\n",
    "    model.add(Conv2D)\n"
   ],
   "metadata": {
    "collapsed": false,
    "pycharm": {
     "name": "#%%\n"
    }
   }
  },
  {
   "cell_type": "code",
   "execution_count": null,
   "outputs": [],
   "source": [
    "from tensorflow.keras.models import Sequential\n",
    "from tensorflow.keras.layers import Conv2D, BatchNormalization, ReLU, GlobalAveragePooling2D, Dense, Softmax\n",
    "from kapre import STFT, Magnitude, MagnitudeToDecibel\n",
    "from kapre.composed import get_melspectrogram_layer, get_log_frequency_spectrogram_layer\n",
    "\n",
    "# 6 channels (!), maybe 1-sec audio signal, for an example.\n",
    "input_shape = (44100, 6)\n",
    "sr = 44100\n",
    "\n",
    "model = Sequential()\n",
    "\n",
    "# A STFT layer\n",
    "model.add(STFT(n_fft=2048, win_length=2018, hop_length=1024,\n",
    "               window_name=None, pad_end=False,\n",
    "               input_data_format='channels_last', output_data_format='channels_last',\n",
    "               input_shape=input_shape))\n",
    "model.add(Magnitude())\n",
    "model.add(MagnitudeToDecibel())  # these three layers can be replaced with get_stft_magnitude_layer()\n",
    "\n",
    "# Alternatively, you may want to use a melspectrogram layer\n",
    "# melgram_layer = get_melspectrogram_layer()\n",
    "# or log-frequency layer\n",
    "# log_stft_layer = get_log_frequency_spectrogram_layer()\n",
    "\n",
    "# add more layers as you want\n",
    "model.add(Conv2D(32, (3, 3), strides=(2, 2)))\n",
    "model.add(BatchNormalization())\n",
    "model.add(ReLU())\n",
    "model.add(GlobalAveragePooling2D())\n",
    "model.add(Dense(10))\n",
    "model.add(Softmax())\n",
    "\n",
    "# Compile the model\n",
    "model.compile('adam', 'categorical_crossentropy')  # if single-label classification\n",
    "\n",
    "# train it with raw audio sample inputs\n",
    "# for example, you may have functions that load your data as below.\n",
    "x = load_x()  # e.g., x.shape = (10000, 6, 44100)\n",
    "y = load_y()  # e.g., y.shape = (10000, 10) if it's 10-class classification\n",
    "# then..\n",
    "model.fit(x, y)\n",
    "# Done!"
   ],
   "metadata": {
    "collapsed": false,
    "pycharm": {
     "name": "#%%\n"
    }
   }
  }
 ],
 "metadata": {
  "kernelspec": {
   "display_name": "Python 3",
   "language": "python",
   "name": "python3"
  },
  "language_info": {
   "codemirror_mode": {
    "name": "ipython",
    "version": 2
   },
   "file_extension": ".py",
   "mimetype": "text/x-python",
   "name": "python",
   "nbconvert_exporter": "python",
   "pygments_lexer": "ipython2",
   "version": "2.7.6"
  }
 },
 "nbformat": 4,
 "nbformat_minor": 0
}