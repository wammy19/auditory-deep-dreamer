{
 "cells": [
  {
   "cell_type": "code",
   "execution_count": null,
   "outputs": [],
   "source": [
    "from os.path import join\n",
    "\n",
    "from pandas import DataFrame\n",
    "\n",
    "from ai_tools import DataGenerator, ModelManager\n",
    "from ai_tools.helpers import create_data_frame_from_path, split_stratified_into_train_val_test\n",
    "\n",
    "# Paths.\n",
    "dataset_path: str = '/mnt/datasets/serialized_dataset'\n",
    "logs_path: str = '/mnt/logs'\n",
    "aim_logs_path: str = '/mnt/aim'\n",
    "model_checkpoint_path: str = '/mnt/model-checkpoints'\n",
    "model_histories: str = '/mnt/model_histories'\n",
    "model_config_csv_log_path: str = '/mnt/model_settings.csv'\n",
    "\n",
    "# Settings.\n",
    "batch_size: int = 32"
   ],
   "metadata": {
    "collapsed": false,
    "pycharm": {
     "name": "#%%\n",
     "is_executing": true
    }
   }
  },
  {
   "cell_type": "markdown",
   "source": [
    "### Create dataset."
   ],
   "metadata": {
    "collapsed": false
   }
  },
  {
   "cell_type": "code",
   "execution_count": 2,
   "outputs": [],
   "source": [
    "# Create dataset dataframe and split it into train, validation, and test.\n",
    "df: DataFrame = create_data_frame_from_path(\n",
    "    dataset_path,\n",
    "    number_of_samples_for_each_class=2_000\n",
    ")\n",
    "\n",
    "df_train, df_val, df_test = split_stratified_into_train_val_test(df)  # type: DataFrame, DataFrame, DataFrame\n",
    "\n",
    "# Store the data generator data frame for recreating the data generator if needed.\n",
    "df_train.to_csv(join(logs_path, 'train_data.csv'))\n",
    "df_val.to_csv(join(logs_path, 'val_data.csv'))\n",
    "df_test.to_csv(join(logs_path, 'test_data.csv'))"
   ],
   "metadata": {
    "collapsed": false,
    "pycharm": {
     "name": "#%%\n"
    }
   }
  },
  {
   "cell_type": "code",
   "execution_count": 3,
   "outputs": [],
   "source": [
    "# Create Generators.\n",
    "train_data_generator: DataGenerator = DataGenerator(df_train, batch_size=batch_size)\n",
    "val_data_generator: DataGenerator = DataGenerator(df_val, batch_size=batch_size)\n",
    "test_data_generator: DataGenerator = DataGenerator(df_test, batch_size=batch_size)"
   ],
   "metadata": {
    "collapsed": false,
    "pycharm": {
     "name": "#%%\n"
    }
   }
  },
  {
   "cell_type": "code",
   "execution_count": 5,
   "outputs": [],
   "source": [
    "model_manager = ModelManager(\n",
    "    path_to_csv_logs=model_config_csv_log_path,\n",
    "    model_checkpoint_dir=model_checkpoint_path,\n",
    "    aim_logs_dir=aim_logs_path,\n",
    "    history_log_dir=model_histories\n",
    ")"
   ],
   "metadata": {
    "collapsed": false,
    "pycharm": {
     "name": "#%%\n"
    }
   }
  },
  {
   "cell_type": "code",
   "execution_count": null,
   "outputs": [],
   "source": [
    "model_manager.build_model(\n",
    "    num_conv_block=4,\n",
    "    num_filters=64,\n",
    "    dense_layer_size=64,\n",
    "    num_dense_layers=1,\n",
    "    use_separable_conv_layer=False,\n",
    "    use_regularization=True,\n",
    "    use_dropout_dense_layers=True,\n",
    "    use_dropout_conv_blocks=True\n",
    ")\n",
    "\n",
    "accuracy: float = model_manager.train_and_optimize_model(\n",
    "    train_data_generator,\n",
    "    val_data_generator,\n",
    "    test_data_generator,\n",
    "    epochs=100\n",
    ")"
   ],
   "metadata": {
    "collapsed": false,
    "pycharm": {
     "name": "#%%\n"
    }
   }
  },
  {
   "cell_type": "code",
   "execution_count": 6,
   "outputs": [
    {
     "name": "stdout",
     "output_type": "stream",
     "text": [
      "['epoch-01.pb', 'epoch-03.pb', 'epoch-05.pb', 'epoch-07.pb', 'epoch-08.pb']\n"
     ]
    }
   ],
   "source": [
    "model = model_manager.current_model\n",
    "model.evaluate(test_data_generator)"
   ],
   "metadata": {
    "collapsed": false,
    "pycharm": {
     "name": "#%%\n"
    }
   }
  }
 ],
 "metadata": {
  "kernelspec": {
   "display_name": "Python 3",
   "language": "python",
   "name": "python3"
  },
  "language_info": {
   "codemirror_mode": {
    "name": "ipython",
    "version": 2
   },
   "file_extension": ".py",
   "mimetype": "text/x-python",
   "name": "python",
   "nbconvert_exporter": "python",
   "pygments_lexer": "ipython2",
   "version": "2.7.6"
  }
 },
 "nbformat": 4,
 "nbformat_minor": 0
}