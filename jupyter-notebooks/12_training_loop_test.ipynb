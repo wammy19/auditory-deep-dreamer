{
 "cells": [
  {
   "cell_type": "code",
   "execution_count": 1,
   "outputs": [],
   "source": [
    "from os.path import join\n",
    "from random import choice, randint\n",
    "\n",
    "from pandas import DataFrame\n",
    "\n",
    "from ai_tools import DataGenerator, ModelManager\n",
    "from ai_tools.helpers import create_data_frame_from_path, split_stratified_into_train_val_test\n",
    "from ai_tools.displays import  plot_history\n",
    "\n",
    "from tensorflow.keras.callbacks import History\n",
    "\n",
    "# Paths.\n",
    "dataset_path: str = '/mnt/datasets/serialized_dataset'\n",
    "logs_path: str = '/mnt/logs'\n",
    "aim_logs_path: str = '/mnt/aim'\n",
    "model_checkpoint_path: str = '/mnt/model-checkpoints'\n",
    "model_histories: str = '/mnt/model_histories'\n",
    "model_config_csv_log_path: str = '/mnt/model_settings.csv'\n",
    "\n",
    "# Settings.\n",
    "batch_size: int = 32"
   ],
   "metadata": {
    "collapsed": false,
    "pycharm": {
     "name": "#%%\n"
    }
   }
  },
  {
   "cell_type": "markdown",
   "source": [
    "### Create dataset."
   ],
   "metadata": {
    "collapsed": false
   }
  },
  {
   "cell_type": "code",
   "execution_count": 2,
   "outputs": [],
   "source": [
    "# Create dataset dataframe and split it into train, validation, and test.\n",
    "df: DataFrame = create_data_frame_from_path(\n",
    "    dataset_path,\n",
    "    number_of_samples_for_each_class=2_000\n",
    ")\n",
    "\n",
    "df_train, df_val, df_test = split_stratified_into_train_val_test(df)  # type: DataFrame, DataFrame, DataFrame\n",
    "\n",
    "# Store the data generator data frame for recreating the data generator if needed.\n",
    "df_train.to_csv(join(logs_path, 'train_data.csv'))\n",
    "df_val.to_csv(join(logs_path, 'val_data.csv'))\n",
    "df_test.to_csv(join(logs_path, 'test_data.csv'))"
   ],
   "metadata": {
    "collapsed": false,
    "pycharm": {
     "name": "#%%\n"
    }
   }
  },
  {
   "cell_type": "code",
   "execution_count": 3,
   "outputs": [],
   "source": [
    "# Create Generators.\n",
    "train_data_generator: DataGenerator = DataGenerator(df_train, batch_size=batch_size)\n",
    "val_data_generator: DataGenerator = DataGenerator(df_val, batch_size=batch_size)\n",
    "test_data_generator: DataGenerator = DataGenerator(df_test, batch_size=batch_size)"
   ],
   "metadata": {
    "collapsed": false,
    "pycharm": {
     "name": "#%%\n"
    }
   }
  },
  {
   "cell_type": "code",
   "execution_count": 4,
   "outputs": [
    {
     "data": {
      "text/plain": "                                                path instrument pitch  \\\n0  /mnt/datasets/serialized_dataset/reed/reed_F#_...       reed    F#   \n1  /mnt/datasets/serialized_dataset/bass/bass_E_0...       bass     E   \n2  /mnt/datasets/serialized_dataset/bass/bass_C_0...       bass     C   \n3  /mnt/datasets/serialized_dataset/synth/synth_D...      synth    D#   \n4  /mnt/datasets/serialized_dataset/reed/reed_B_0...       reed     B   \n\n                                    instrument_label  \\\n0  [0.0, 0.0, 0.0, 0.0, 0.0, 0.0, 1.0, 0.0, 0.0, ...   \n1  [1.0, 0.0, 0.0, 0.0, 0.0, 0.0, 0.0, 0.0, 0.0, ...   \n2  [1.0, 0.0, 0.0, 0.0, 0.0, 0.0, 0.0, 0.0, 0.0, ...   \n3  [0.0, 0.0, 0.0, 0.0, 0.0, 0.0, 0.0, 0.0, 1.0, ...   \n4  [0.0, 0.0, 0.0, 0.0, 0.0, 0.0, 1.0, 0.0, 0.0, ...   \n\n                                         pitch_label  \n0  [0.0, 0.0, 0.0, 0.0, 0.0, 0.0, 0.0, 0.0, 0.0, ...  \n1  [0.0, 0.0, 0.0, 0.0, 0.0, 0.0, 0.0, 1.0, 0.0, ...  \n2  [0.0, 0.0, 0.0, 1.0, 0.0, 0.0, 0.0, 0.0, 0.0, ...  \n3  [0.0, 0.0, 0.0, 0.0, 0.0, 0.0, 1.0, 0.0, 0.0, ...  \n4  [0.0, 0.0, 1.0, 0.0, 0.0, 0.0, 0.0, 0.0, 0.0, ...  ",
      "text/html": "<div>\n<style scoped>\n    .dataframe tbody tr th:only-of-type {\n        vertical-align: middle;\n    }\n\n    .dataframe tbody tr th {\n        vertical-align: top;\n    }\n\n    .dataframe thead th {\n        text-align: right;\n    }\n</style>\n<table border=\"1\" class=\"dataframe\">\n  <thead>\n    <tr style=\"text-align: right;\">\n      <th></th>\n      <th>path</th>\n      <th>instrument</th>\n      <th>pitch</th>\n      <th>instrument_label</th>\n      <th>pitch_label</th>\n    </tr>\n  </thead>\n  <tbody>\n    <tr>\n      <th>0</th>\n      <td>/mnt/datasets/serialized_dataset/reed/reed_F#_...</td>\n      <td>reed</td>\n      <td>F#</td>\n      <td>[0.0, 0.0, 0.0, 0.0, 0.0, 0.0, 1.0, 0.0, 0.0, ...</td>\n      <td>[0.0, 0.0, 0.0, 0.0, 0.0, 0.0, 0.0, 0.0, 0.0, ...</td>\n    </tr>\n    <tr>\n      <th>1</th>\n      <td>/mnt/datasets/serialized_dataset/bass/bass_E_0...</td>\n      <td>bass</td>\n      <td>E</td>\n      <td>[1.0, 0.0, 0.0, 0.0, 0.0, 0.0, 0.0, 0.0, 0.0, ...</td>\n      <td>[0.0, 0.0, 0.0, 0.0, 0.0, 0.0, 0.0, 1.0, 0.0, ...</td>\n    </tr>\n    <tr>\n      <th>2</th>\n      <td>/mnt/datasets/serialized_dataset/bass/bass_C_0...</td>\n      <td>bass</td>\n      <td>C</td>\n      <td>[1.0, 0.0, 0.0, 0.0, 0.0, 0.0, 0.0, 0.0, 0.0, ...</td>\n      <td>[0.0, 0.0, 0.0, 1.0, 0.0, 0.0, 0.0, 0.0, 0.0, ...</td>\n    </tr>\n    <tr>\n      <th>3</th>\n      <td>/mnt/datasets/serialized_dataset/synth/synth_D...</td>\n      <td>synth</td>\n      <td>D#</td>\n      <td>[0.0, 0.0, 0.0, 0.0, 0.0, 0.0, 0.0, 0.0, 1.0, ...</td>\n      <td>[0.0, 0.0, 0.0, 0.0, 0.0, 0.0, 1.0, 0.0, 0.0, ...</td>\n    </tr>\n    <tr>\n      <th>4</th>\n      <td>/mnt/datasets/serialized_dataset/reed/reed_B_0...</td>\n      <td>reed</td>\n      <td>B</td>\n      <td>[0.0, 0.0, 0.0, 0.0, 0.0, 0.0, 1.0, 0.0, 0.0, ...</td>\n      <td>[0.0, 0.0, 1.0, 0.0, 0.0, 0.0, 0.0, 0.0, 0.0, ...</td>\n    </tr>\n  </tbody>\n</table>\n</div>"
     },
     "execution_count": 4,
     "metadata": {},
     "output_type": "execute_result"
    }
   ],
   "source": [
    "train_data_generator.get_data_frame.head()"
   ],
   "metadata": {
    "collapsed": false,
    "pycharm": {
     "name": "#%%\n"
    }
   }
  },
  {
   "cell_type": "code",
   "execution_count": 5,
   "outputs": [
    {
     "name": "stderr",
     "output_type": "stream",
     "text": [
      "2022-03-12 15:12:18.979402: I tensorflow/stream_executor/cuda/cuda_gpu_executor.cc:939] successful NUMA node read from SysFS had negative value (-1), but there must be at least one NUMA node, so returning NUMA node zero\n",
      "2022-03-12 15:12:18.985415: I tensorflow/stream_executor/cuda/cuda_gpu_executor.cc:939] successful NUMA node read from SysFS had negative value (-1), but there must be at least one NUMA node, so returning NUMA node zero\n",
      "2022-03-12 15:12:18.985925: I tensorflow/stream_executor/cuda/cuda_gpu_executor.cc:939] successful NUMA node read from SysFS had negative value (-1), but there must be at least one NUMA node, so returning NUMA node zero\n",
      "2022-03-12 15:12:18.986806: I tensorflow/core/platform/cpu_feature_guard.cc:151] This TensorFlow binary is optimized with oneAPI Deep Neural Network Library (oneDNN) to use the following CPU instructions in performance-critical operations:  AVX2 FMA\n",
      "To enable them in other operations, rebuild TensorFlow with the appropriate compiler flags.\n",
      "2022-03-12 15:12:18.987451: I tensorflow/stream_executor/cuda/cuda_gpu_executor.cc:939] successful NUMA node read from SysFS had negative value (-1), but there must be at least one NUMA node, so returning NUMA node zero\n",
      "2022-03-12 15:12:18.987770: I tensorflow/stream_executor/cuda/cuda_gpu_executor.cc:939] successful NUMA node read from SysFS had negative value (-1), but there must be at least one NUMA node, so returning NUMA node zero\n",
      "2022-03-12 15:12:18.988056: I tensorflow/stream_executor/cuda/cuda_gpu_executor.cc:939] successful NUMA node read from SysFS had negative value (-1), but there must be at least one NUMA node, so returning NUMA node zero\n",
      "2022-03-12 15:12:19.312712: I tensorflow/stream_executor/cuda/cuda_gpu_executor.cc:939] successful NUMA node read from SysFS had negative value (-1), but there must be at least one NUMA node, so returning NUMA node zero\n",
      "2022-03-12 15:12:19.313154: I tensorflow/stream_executor/cuda/cuda_gpu_executor.cc:939] successful NUMA node read from SysFS had negative value (-1), but there must be at least one NUMA node, so returning NUMA node zero\n",
      "2022-03-12 15:12:19.313541: I tensorflow/stream_executor/cuda/cuda_gpu_executor.cc:939] successful NUMA node read from SysFS had negative value (-1), but there must be at least one NUMA node, so returning NUMA node zero\n",
      "2022-03-12 15:12:19.313846: I tensorflow/core/common_runtime/gpu/gpu_device.cc:1525] Created device /job:localhost/replica:0/task:0/device:GPU:0 with 4988 MB memory:  -> device: 0, name: NVIDIA GeForce GTX 1060 6GB, pci bus id: 0000:2b:00.0, compute capability: 6.1\n",
      "2022-03-12 15:12:20.567614: I tensorflow/stream_executor/cuda/cuda_dnn.cc:366] Loaded cuDNN version 8100\n",
      "2022-03-12 15:12:43.312667: W tensorflow/python/util/util.cc:368] Sets are not currently considered sequences, but this may change in the future, so consider avoiding using them.\n"
     ]
    },
    {
     "name": "stdout",
     "output_type": "stream",
     "text": [
      "INFO:tensorflow:Assets written to: /mnt/model-checkpoints/model_118/epoch-01.pb/assets\n",
      "INFO:tensorflow:Assets written to: /mnt/model-checkpoints/model_118/epoch-02.pb/assets\n",
      "INFO:tensorflow:Assets written to: /mnt/model-checkpoints/model_118/epoch-03.pb/assets\n",
      "INFO:tensorflow:Assets written to: /mnt/model-checkpoints/model_118/epoch-07.pb/assets\n",
      "INFO:tensorflow:Assets written to: ram://65f486ec-4ce5-4b85-a6f6-0e88298bfeff/assets\n"
     ]
    }
   ],
   "source": [
    "model_manager = ModelManager(\n",
    "    path_to_csv_logs=model_config_csv_log_path,\n",
    "    model_checkpoint_dir=model_checkpoint_path,\n",
    "    aim_logs_dir=aim_logs_path,\n",
    "    history_log_dir=model_histories\n",
    ")\n",
    "\n",
    "model_manager.build_model(\n",
    "    num_conv_block=4,\n",
    "    num_filters=64,\n",
    "    dense_layer_size=64,\n",
    "    num_dense_layers=1,\n",
    "    use_separable_conv_layer=False,\n",
    "    use_regularization=True,\n",
    "    use_dropout_dense_layers=True,\n",
    "    use_dropout_conv_blocks=True\n",
    ")\n",
    "\n",
    "accuracy: float = model_manager.train_and_optimize_model(\n",
    "    train_data_generator,\n",
    "    val_data_generator,\n",
    "    test_data_generator,\n",
    "    epochs=100\n",
    ")"
   ],
   "metadata": {
    "collapsed": false,
    "pycharm": {
     "name": "#%%\n"
    }
   }
  },
  {
   "cell_type": "code",
   "execution_count": 10,
   "outputs": [
    {
     "name": "stdout",
     "output_type": "stream",
     "text": [
      "Got history for model_118\n"
     ]
    },
    {
     "data": {
      "text/plain": "<Figure size 432x288 with 1 Axes>",
      "image/png": "[encoded data removed]"
     },
     "metadata": {
      "needs_background": "light"
     },
     "output_type": "display_data"
    },
    {
     "data": {
      "text/plain": "<Figure size 432x288 with 1 Axes>",
      "image/png": "[encoded data removed]"
     },
     "metadata": {
      "needs_background": "light"
     },
     "output_type": "display_data"
    }
   ],
   "source": [
    "history: History = model_manager.get_model_history(118)\n",
    "\n",
    "plot_history(history)"
   ],
   "metadata": {
    "collapsed": false,
    "pycharm": {
     "name": "#%%\n"
    }
   }
  }
 ],
 "metadata": {
  "kernelspec": {
   "display_name": "Python 3",
   "language": "python",
   "name": "python3"
  },
  "language_info": {
   "codemirror_mode": {
    "name": "ipython",
    "version": 2
   },
   "file_extension": ".py",
   "mimetype": "text/x-python",
   "name": "python",
   "nbconvert_exporter": "python",
   "pygments_lexer": "ipython2",
   "version": "2.7.6"
  }
 },
 "nbformat": 4,
 "nbformat_minor": 0
}