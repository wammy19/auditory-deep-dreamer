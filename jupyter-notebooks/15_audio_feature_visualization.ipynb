{
 "cells": [
  {
   "cell_type": "code",
   "execution_count": 2,
   "metadata": {
    "pycharm": {
     "name": "#%%\n"
    }
   },
   "outputs": [],
   "source": [
    "import numpy as np\n",
    "from keras.engine.keras_tensor import KerasTensor\n",
    "from tensorflow.keras.models import Model, load_model\n",
    "from typing import List, Optional\n",
    "from tensorflow import GradientTape, reduce_mean\n",
    "from utils.audio_tools import create_audio_player\n",
    "import tensorflow as tf\n",
    "from matplotlib import pyplot as plt\n",
    "from librosa.display import specshow\n",
    "from librosa import power_to_db\n",
    "from librosa.feature.inverse import mel_to_audio\n",
    "from soundfile import write\n",
    "import utils.constants as consts\n",
    "from os.path import join\n",
    "import os\n",
    "from librosa.feature import melspectrogram\n",
    "from librosa import tone\n",
    "from librosa import load\n",
    "from utils.audio_tools import segment_signal\n",
    "\n",
    "\n",
    "PATH_TO_MODEL: str = '../runs/models/model_3/epoch-96.pb'\n",
    "PATH_TO_AUDIO: str = '../media/audio/string_a#.wav'\n",
    "NUM_LAYERS: int = 44"
   ]
  },
  {
   "cell_type": "markdown",
   "metadata": {
    "pycharm": {
     "name": "#%% md\n"
    }
   },
   "source": [
    "Get indices of Conv block layers."
   ]
  },
  {
   "cell_type": "code",
   "execution_count": 3,
   "metadata": {
    "pycharm": {
     "name": "#%%\n"
    }
   },
   "outputs": [],
   "source": [
    "def get_model_layers(_model: Model) -> List[Model]:\n",
    "    \"\"\"\n",
    "    :param _model:\n",
    "    :return:\n",
    "    \"\"\"\n",
    "\n",
    "    layer_output: List[KerasTensor] = [_layer.output for _layer in model.layers[:NUM_LAYERS]]\n",
    "    activation_model = Model(inputs=model.input, outputs=layer_output)\n",
    "\n",
    "    return activation_model.layers\n",
    "\n",
    "\n",
    "def get_conv_layer_indicis(model_layers: List[Model]) -> List[int]:\n",
    "    \"\"\"\n",
    "    :param model_layers:\n",
    "    :return:\n",
    "    \"\"\"\n",
    "\n",
    "    _conv_block_indicis: List[int] = []\n",
    "\n",
    "    for i, _layer in enumerate(model_layers):\n",
    "        if 'conv' in _layer.name:\n",
    "            _conv_block_indicis.append(i)\n",
    "\n",
    "    return _conv_block_indicis\n",
    "\n",
    "\n",
    "def compute_loss(\n",
    "        _feature_extractor: Model,\n",
    "        _input_signal: np.ndarray,\n",
    "        _filter_index: int\n",
    ") -> float:\n",
    "    \"\"\"\n",
    "    :param _feature_extractor:\n",
    "    :param _input_signal:\n",
    "    :param _filter_index:\n",
    "    :return:\n",
    "    \"\"\"\n",
    "\n",
    "    activation: List[np.ndarray] = _feature_extractor(_input_signal)\n",
    "    filter_activation = activation[:, :, :, _filter_index]\n",
    "\n",
    "    return reduce_mean(filter_activation)\n",
    "\n",
    "\n",
    "@tf.function\n",
    "def gradient_ascent_step(\n",
    "        _feature_extractor: Model,\n",
    "        _signal: np.ndarray,\n",
    "        _filter_index: int,\n",
    "        learning_rate: float\n",
    ") -> np.ndarray:\n",
    "    \"\"\"\n",
    "    :param _feature_extractor:\n",
    "    :param _signal:\n",
    "    :param _filter_index:\n",
    "    :param learning_rate:\n",
    "    :return:\n",
    "    \"\"\"\n",
    "\n",
    "    with GradientTape() as tape:\n",
    "        tape.watch(_signal)\n",
    "        _loss = compute_loss(_feature_extractor, _signal, _filter_index)\n",
    "\n",
    "    # Compute gradients.\n",
    "    grads = tape.gradient(_loss, _signal)\n",
    "\n",
    "    # Normalize gradients.\n",
    "    grads = tf.math.l2_normalize(grads)\n",
    "    _signal += learning_rate * grads\n",
    "\n",
    "    return _signal\n",
    "\n",
    "\n",
    "def initialize_image() -> np.ndarray:\n",
    "    \"\"\"\n",
    "    :return:\n",
    "    \"\"\"\n",
    "\n",
    "    noise_mel_spectrogram: np.ndarray = tf.random.uniform((1, 300, 44, 1))\n",
    "\n",
    "    return noise_mel_spectrogram\n",
    "\n",
    "\n",
    "def visualize_filter(\n",
    "        _feature_extractor: Model,\n",
    "        _filter_index: int,\n",
    "        learning_rate: float = 10.0,\n",
    "        iterations: int = 30,\n",
    "        _signal: Optional[np.ndarray] = None\n",
    ") -> np.ndarray:\n",
    "    \"\"\"\n",
    "    :param _feature_extractor:\n",
    "    :param _filter_index:\n",
    "    :param learning_rate:\n",
    "    :param iterations:\n",
    "    :param _signal:\n",
    "    :return:\n",
    "    \"\"\"\n",
    "\n",
    "    if _signal is None:\n",
    "        _signal: np.ndarray = initialize_image()\n",
    "\n",
    "    for _ in range(iterations):\n",
    "        _signal: np.ndarray = gradient_ascent_step(\n",
    "            _feature_extractor,\n",
    "            _signal,\n",
    "            _filter_index,\n",
    "            learning_rate\n",
    "        )\n",
    "\n",
    "    # Decode the resulting input image.\n",
    "    _signal = deprocess_image(_signal[0].numpy())\n",
    "\n",
    "    return _signal\n",
    "\n",
    "\n",
    "def deprocess_image(_signal: np.ndarray) -> np.ndarray:\n",
    "    \"\"\"\n",
    "    :param _signal:\n",
    "    :return:\n",
    "    \"\"\"\n",
    "\n",
    "    # Normalize array: center on 0., ensure variance is 0.15.\n",
    "    _signal -= _signal.mean()\n",
    "    _signal /= _signal.std() + 1e-5\n",
    "    _signal *= 0.15\n",
    "\n",
    "    # Clip to [0, 1].\n",
    "    _signal = np.clip(_signal, 0, 1)\n",
    "\n",
    "    return _signal\n",
    "\n",
    "\n",
    "def convert_signal_into_mel_spectrogram_segments(audio_signal: np.ndarray) -> List[np.ndarray]:\n",
    "    \"\"\"\n",
    "    :param audio_signal:\n",
    "    :return:\n",
    "    \"\"\"\n",
    "\n",
    "    # Segment signal into 1 second samples\n",
    "    signal_segments: List[np.ndarray] = segment_signal(audio_signal, window_leap_fraction=1)\n",
    "    _mel_spec_segments: List[np.ndarray] = []\n",
    "\n",
    "    # Loop over all segments and encode them into mel spectrograms.\n",
    "    for _sample in signal_segments:\n",
    "        encoded_segment: np.ndarray = melspectrogram(\n",
    "            y=_sample,\n",
    "            sr=consts.SAMPLE_RATE,\n",
    "            n_fft=consts.NUM_FFT,\n",
    "            hop_length=consts.MEL_HOP_LEN,\n",
    "            n_mels=consts.NUM_MELS,\n",
    "            win_length=consts.MEL_WINDOW_LEN\n",
    "        )\n",
    "\n",
    "        # Reshape mel spectrograms\n",
    "        encoded_segment = np.array([encoded_segment.reshape(consts.X_SHAPE)])\n",
    "        _mel_spec_segments.append(encoded_segment)\n",
    "\n",
    "    return _mel_spec_segments"
   ]
  },
  {
   "cell_type": "code",
   "execution_count": 4,
   "metadata": {
    "pycharm": {
     "name": "#%%\n"
    }
   },
   "outputs": [
    {
     "name": "stderr",
     "output_type": "stream",
     "text": [
      "2022-04-15 14:18:55.597101: I tensorflow/core/platform/cpu_feature_guard.cc:151] This TensorFlow binary is optimized with oneAPI Deep Neural Network Library (oneDNN) to use the following CPU instructions in performance-critical operations:  AVX2 FMA\n",
      "To enable them in other operations, rebuild TensorFlow with the appropriate compiler flags.\n"
     ]
    }
   ],
   "source": [
    "model: Model = load_model(PATH_TO_MODEL)\n",
    "layers: List[Model] = get_model_layers(model)\n",
    "conv_block_indicis: List[int] = get_conv_layer_indicis(layers)\n",
    "\n",
    "# Set up a model that returns the activation values for our target layer.\n",
    "layer: Model = model.get_layer(name=layers[conv_block_indicis[0]].name)\n",
    "feature_extractor: Model = Model(inputs=model.inputs, outputs=layer.output)"
   ]
  },
  {
   "cell_type": "code",
   "execution_count": 5,
   "outputs": [
    {
     "data": {
      "text/plain": "<IPython.lib.display.Audio object>",
      "text/html": "\n                <audio  controls=\"controls\" >\n                    <source src=\"data:audio/wav;base64,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\" type=\"audio/wav\" />\n                    Your browser does not support the audio element.\n                </audio>\n              "
     },
     "metadata": {},
     "output_type": "display_data"
    }
   ],
   "source": [
    "PATH_TO_SAMPLE: str = '../long-audio/break_2.wav'\n",
    "sample: np.ndarray = load(PATH_TO_SAMPLE)[0]\n",
    "\n",
    "mel_spec_segments: List[np.ndarray] = convert_signal_into_mel_spectrogram_segments(sample)"
   ],
   "metadata": {
    "collapsed": false,
    "pycharm": {
     "name": "#%%\n"
    }
   }
  },
  {
   "cell_type": "code",
   "execution_count": 9,
   "outputs": [
    {
     "data": {
      "text/plain": "<Figure size 432x288 with 1 Axes>",
      "image/png": "[encoded data removed]"
     },
     "metadata": {},
     "output_type": "display_data"
    }
   ],
   "source": [
    "OUTPUT_DIR: str = '../feature_visualization'\n",
    "\n",
    "os.makedirs(OUTPUT_DIR, exist_ok=True)\n",
    "os.makedirs(join(OUTPUT_DIR, 'mel_specs'), exist_ok=True)\n",
    "\n",
    "def process_sample_through_neuron(neuron_index, _mel_spec_segments: List[np.ndarray], processing_iterations: int = 1):\n",
    "    \"\"\"\n",
    "    :param neuron_index:\n",
    "    :param _mel_spec_segments:\n",
    "    :param processing_iterations:\n",
    "    :return:\n",
    "    \"\"\"\n",
    "\n",
    "    mel_specs: List[np.ndarray] = []\n",
    "    processed_signal: List[np.ndarray] = []\n",
    "\n",
    "    for mel in _mel_spec_segments:\n",
    "        neuron_feature: np.ndarray = visualize_filter(\n",
    "            feature_extractor,\n",
    "            neuron_index,\n",
    "            learning_rate=10,\n",
    "            iterations=processing_iterations,\n",
    "            _signal=mel\n",
    "        )\n",
    "\n",
    "        neuron_feature = neuron_feature.reshape(consts.NUM_MELS, -1)\n",
    "\n",
    "        signal: np.ndarray = mel_to_audio(\n",
    "            neuron_feature,\n",
    "            sr=consts.SAMPLE_RATE,\n",
    "            n_iter=consts.MEL_TO_AUDIO_N_ITERATIONS\n",
    "        )\n",
    "\n",
    "        processed_signal.append(signal)\n",
    "        mel_specs.append(neuron_feature)\n",
    "\n",
    "    final_signal: np.ndarray = np.stack(processed_signal)\n",
    "    final_signal = np.concatenate(final_signal)\n",
    "    neuron_name: str = f'neuron_{neuron_index}'\n",
    "\n",
    "    mel_specs_concate: np.ndarray = np.concatenate(np.stack(mel_specs))\n",
    "    mel_spec_log: np.ndarray = power_to_db(mel_specs_concate, ref=np.max)\n",
    "\n",
    "    # Save spectrogram as image.\n",
    "    specshow(mel_spec_log, sr=consts.SAMPLE_RATE)\n",
    "    plt.savefig(join(OUTPUT_DIR, 'mel_specs', neuron_name + '.png'))\n",
    "\n",
    "    # Save audio as file.\n",
    "    write(join(OUTPUT_DIR, neuron_name) + '.wav', final_signal, samplerate=consts.SAMPLE_RATE)\n",
    "\n",
    "process_sample_through_neuron(2, mel_spec_segments)\n",
    "\n",
    "# for neuron_i in range(layer.output.shape[-1] - 1):\n",
    "#     mel_specs: List[np.ndarray] = []\n",
    "#     processed_signal: List[np.ndarray] = []\n",
    "\n",
    "\n",
    "\n",
    "# display_mel_spectrogram(neuron_feature)\n",
    "# create_audio_player(signal, normalize=True)"
   ],
   "metadata": {
    "collapsed": false,
    "pycharm": {
     "name": "#%%\n"
    }
   }
  },
  {
   "cell_type": "code",
   "execution_count": null,
   "outputs": [],
   "source": [
    "def generate_sine_wave_mel_spectrogram(freq: int = 440, duration: float = 1.0, sample_rate: int = consts.SAMPLE_RATE) -> np.ndarray:\n",
    "    \"\"\"\n",
    "    :param freq: Frequency in Hz. 440hz == A\n",
    "    :param duration: Time in seconds.\n",
    "    :param sample_rate:\n",
    "    :return:\n",
    "\n",
    "    Generates a sine wave and encodes it into a mel spectrogram.\n",
    "    \"\"\"\n",
    "\n",
    "    sine_wave: np.ndarray = tone(freq, duration=duration, sr=sample_rate)\n",
    "\n",
    "    encoded_sine_wave: np.ndarray = melspectrogram(\n",
    "        y=sine_wave,\n",
    "        sr=consts.SAMPLE_RATE,\n",
    "        n_fft=consts.NUM_FFT,\n",
    "        hop_length=consts.MEL_HOP_LEN,\n",
    "        n_mels=consts.NUM_MELS,\n",
    "        win_length=consts.MEL_WINDOW_LEN\n",
    "    )\n",
    "\n",
    "    return np.array([encoded_sine_wave.reshape(consts.X_SHAPE)])"
   ],
   "metadata": {
    "collapsed": false,
    "pycharm": {
     "name": "#%%\n"
    }
   }
  }
 ],
 "metadata": {
  "kernelspec": {
   "display_name": "Python 3 (ipykernel)",
   "language": "python",
   "name": "python3"
  },
  "language_info": {
   "codemirror_mode": {
    "name": "ipython",
    "version": 3
   },
   "file_extension": ".py",
   "mimetype": "text/x-python",
   "name": "python",
   "nbconvert_exporter": "python",
   "pygments_lexer": "ipython3",
   "version": "3.7.13"
  }
 },
 "nbformat": 4,
 "nbformat_minor": 1
}