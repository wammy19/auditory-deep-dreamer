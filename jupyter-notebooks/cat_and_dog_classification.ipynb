{
 "cells": [
  {
   "cell_type": "markdown",
   "source": [
    "Part 1: Load, process, and organize the data set."
   ],
   "metadata": {
    "collapsed": false
   }
  },
  {
   "cell_type": "code",
   "execution_count": 56,
   "outputs": [],
   "source": [
    "import cv2\n",
    "import matplotlib.pyplot as plt\n",
    "import numpy as np\n",
    "import os\n",
    "\n",
    "DATA_DIRECTORY = '/Users/andreaspiteri/uni/year-3/ai/data-sets/cats-and-dogs/PetImages'\n",
    "CATEGORIES = ['Dog', 'Cat']\n",
    "IMG_SIZE = 50"
   ],
   "metadata": {
    "collapsed": false,
    "pycharm": {
     "name": "#%%\n"
    }
   }
  },
  {
   "cell_type": "code",
   "execution_count": 57,
   "outputs": [],
   "source": [
    "def create_training_dataset(img_size: int = 100) -> list[list[np.ndarray, int]]:\n",
    "    \"\"\"\n",
    "    :param IMG_SIZE:\n",
    "    :return:\n",
    "\n",
    "    Loops over the 'Dog' and 'Cat' folders in the data set and returns them as a list with their labels.\n",
    "    \"\"\"\n",
    "    data = []\n",
    "\n",
    "    for category in CATEGORIES:\n",
    "        path_to_image = os.path.join(DATA_DIRECTORY, category)\n",
    "        class_num = CATEGORIES.index(category)\n",
    "\n",
    "        for img in os.listdir(path_to_image):\n",
    "            try:\n",
    "                img_array: np.ndarray = cv2.imread(os.path.join(path_to_image, img), cv2.IMREAD_GRAYSCALE)\n",
    "                resized_img: np.ndarray = cv2.resize(img_array, (img_size, img_size))\n",
    "\n",
    "                # Image array, and it's label.\n",
    "                data.append([resized_img, class_num])\n",
    "\n",
    "            except Exception as err:  # Some images caused issues, we are just ignoring these.\n",
    "                pass\n",
    "\n",
    "    return data"
   ],
   "metadata": {
    "collapsed": false,
    "pycharm": {
     "name": "#%%\n"
    }
   }
  },
  {
   "cell_type": "code",
   "execution_count": 58,
   "outputs": [
    {
     "name": "stderr",
     "output_type": "stream",
     "text": [
      "Corrupt JPEG data: 65 extraneous bytes before marker 0xd9\n",
      "Corrupt JPEG data: 226 extraneous bytes before marker 0xd9\n",
      "Corrupt JPEG data: 162 extraneous bytes before marker 0xd9\n",
      "Warning: unknown JFIF revision number 0.00\n",
      "Corrupt JPEG data: 2230 extraneous bytes before marker 0xd9\n",
      "Corrupt JPEG data: 254 extraneous bytes before marker 0xd9\n",
      "Corrupt JPEG data: 399 extraneous bytes before marker 0xd9\n",
      "Corrupt JPEG data: 1403 extraneous bytes before marker 0xd9\n",
      "Corrupt JPEG data: 214 extraneous bytes before marker 0xd9\n",
      "Corrupt JPEG data: 1153 extraneous bytes before marker 0xd9\n",
      "Corrupt JPEG data: 99 extraneous bytes before marker 0xd9\n",
      "Corrupt JPEG data: 128 extraneous bytes before marker 0xd9\n",
      "Corrupt JPEG data: 239 extraneous bytes before marker 0xd9\n"
     ]
    }
   ],
   "source": [
    "training_data: list[list[np.ndarray, int]] = create_training_dataset(IMG_SIZE)"
   ],
   "metadata": {
    "collapsed": false,
    "pycharm": {
     "name": "#%%\n"
    }
   }
  },
  {
   "cell_type": "code",
   "execution_count": 59,
   "outputs": [
    {
     "name": "stdout",
     "output_type": "stream",
     "text": [
      "24946\n"
     ]
    }
   ],
   "source": [
    "# Check if training_date is populated.\n",
    "print(len(training_data))"
   ],
   "metadata": {
    "collapsed": false,
    "pycharm": {
     "name": "#%%\n"
    }
   }
  },
  {
   "cell_type": "code",
   "execution_count": 60,
   "outputs": [],
   "source": [
    "import random\n",
    "\n",
    "random.shuffle(training_data)"
   ],
   "metadata": {
    "collapsed": false,
    "pycharm": {
     "name": "#%%\n"
    }
   }
  },
  {
   "cell_type": "code",
   "execution_count": 61,
   "outputs": [],
   "source": [
    "# Uppercase 'X' typically are the features and lower case 'y' are the labels.\n",
    "\n",
    "X: list[np.ndarray] = []\n",
    "y: list[int] = []"
   ],
   "metadata": {
    "collapsed": false,
    "pycharm": {
     "name": "#%%\n"
    }
   }
  },
  {
   "cell_type": "code",
   "execution_count": 62,
   "outputs": [],
   "source": [
    "for feature, label in training_data:\n",
    "    X.append(feature)\n",
    "    y.append(label)\n",
    "\n",
    "X = np.array(X).reshape((-1, IMG_SIZE, IMG_SIZE, 1))\n",
    "y = np.array(y)"
   ],
   "metadata": {
    "collapsed": false,
    "pycharm": {
     "name": "#%%\n"
    }
   }
  },
  {
   "cell_type": "code",
   "execution_count": 63,
   "outputs": [],
   "source": [
    "# Use pickle to store processed and organized dataset.\n",
    "\n",
    "import pickle\n",
    "\n",
    "with open('./X.pickle', 'wb') as file:\n",
    "    pickle.dump(X, file)\n",
    "\n",
    "with open('./y.pickle', 'wb') as file:\n",
    "    pickle.dump(y, file)"
   ],
   "metadata": {
    "collapsed": false,
    "pycharm": {
     "name": "#%%\n"
    }
   }
  },
  {
   "cell_type": "markdown",
   "source": [
    "Part 2: Build and train the model."
   ],
   "metadata": {
    "collapsed": false,
    "pycharm": {
     "name": "#%% md\n"
    }
   }
  },
  {
   "cell_type": "code",
   "execution_count": 64,
   "outputs": [],
   "source": [
    "# Use pickle to load the saved data.\n",
    "\n",
    "with open('X.pickle', 'rb') as file:\n",
    "    X: np.ndarray = pickle.load(file)\n",
    "\n",
    "with open('y.pickle', 'rb') as file:\n",
    "    y: list = pickle.load(file)"
   ],
   "metadata": {
    "collapsed": false,
    "pycharm": {
     "name": "#%%\n"
    }
   }
  },
  {
   "cell_type": "code",
   "execution_count": 65,
   "outputs": [],
   "source": [
    "from tensorflow.keras.models import Sequential\n",
    "from tensorflow.keras.layers import Dense, Dropout, Activation, Flatten, Conv2D, MaxPooling2D\n",
    "from tensorflow.keras.activations import relu, sigmoid\n",
    "from tensorflow.keras.losses import BinaryCrossentropy\n",
    "from tensorflow.keras.optimizers import Adam\n",
    "import tensorflow.keras.utils as utils\n",
    "\n",
    "# Normalize the data.\n",
    "X: np.ndarray = X / 255.0"
   ],
   "metadata": {
    "collapsed": false,
    "pycharm": {
     "name": "#%%\n"
    }
   }
  },
  {
   "cell_type": "code",
   "execution_count": 66,
   "outputs": [],
   "source": [
    "# Define model architecture.\n",
    "model = Sequential([\n",
    "    Conv2D(64, (3, 3), input_shape=X.shape[1:], activation=relu),\n",
    "    MaxPooling2D(pool_size=(2, 2)),\n",
    "    Conv2D(64, (3, 3), activation=relu),\n",
    "    MaxPooling2D(pool_size=(2, 2)),\n",
    "    Flatten(),\n",
    "    Dense(64, activation=relu),\n",
    "    Dense(1, activation=sigmoid),\n",
    "])\n",
    "\n",
    "model.compile(\n",
    "    loss=BinaryCrossentropy(),\n",
    "    optimizer=Adam(),\n",
    "    metrics=['accuracy']\n",
    ")"
   ],
   "metadata": {
    "collapsed": false,
    "pycharm": {
     "name": "#%%\n"
    }
   }
  },
  {
   "cell_type": "code",
   "execution_count": 71,
   "outputs": [
    {
     "name": "stdout",
     "output_type": "stream",
     "text": [
      "Epoch 1/20\n",
      "702/702 [==============================] - 60s 85ms/step - loss: 0.3460 - accuracy: 0.8464 - val_loss: 0.4713 - val_accuracy: 0.7956\n",
      "Epoch 2/20\n",
      "702/702 [==============================] - 59s 84ms/step - loss: 0.3344 - accuracy: 0.8519 - val_loss: 0.4826 - val_accuracy: 0.7940\n",
      "Epoch 3/20\n",
      "702/702 [==============================] - 58s 83ms/step - loss: 0.3253 - accuracy: 0.8568 - val_loss: 0.4763 - val_accuracy: 0.7928\n",
      "Epoch 4/20\n",
      "702/702 [==============================] - 52s 74ms/step - loss: 0.3131 - accuracy: 0.8638 - val_loss: 0.5415 - val_accuracy: 0.7747\n",
      "Epoch 5/20\n",
      "702/702 [==============================] - 51s 73ms/step - loss: 0.3033 - accuracy: 0.8681 - val_loss: 0.4760 - val_accuracy: 0.7980\n",
      "Epoch 6/20\n",
      "702/702 [==============================] - 50s 71ms/step - loss: 0.2970 - accuracy: 0.8694 - val_loss: 0.5576 - val_accuracy: 0.7675\n",
      "Epoch 7/20\n",
      "702/702 [==============================] - 54s 77ms/step - loss: 0.2853 - accuracy: 0.8780 - val_loss: 0.5011 - val_accuracy: 0.7952\n",
      "Epoch 8/20\n",
      "702/702 [==============================] - 56s 80ms/step - loss: 0.2756 - accuracy: 0.8793 - val_loss: 0.5357 - val_accuracy: 0.7916\n",
      "Epoch 9/20\n",
      "702/702 [==============================] - 48s 68ms/step - loss: 0.2705 - accuracy: 0.8827 - val_loss: 0.5106 - val_accuracy: 0.7896\n",
      "Epoch 10/20\n",
      "702/702 [==============================] - 52s 73ms/step - loss: 0.2587 - accuracy: 0.8898 - val_loss: 0.5248 - val_accuracy: 0.7912\n",
      "Epoch 11/20\n",
      "702/702 [==============================] - 60s 85ms/step - loss: 0.2513 - accuracy: 0.8930 - val_loss: 0.5291 - val_accuracy: 0.7856\n",
      "Epoch 12/20\n",
      "702/702 [==============================] - 53s 75ms/step - loss: 0.2419 - accuracy: 0.8966 - val_loss: 0.5744 - val_accuracy: 0.7860\n",
      "Epoch 13/20\n",
      "702/702 [==============================] - 52s 75ms/step - loss: 0.2332 - accuracy: 0.9014 - val_loss: 0.5640 - val_accuracy: 0.7916\n",
      "Epoch 14/20\n",
      "702/702 [==============================] - 61s 86ms/step - loss: 0.2262 - accuracy: 0.9045 - val_loss: 0.5953 - val_accuracy: 0.7876\n",
      "Epoch 15/20\n",
      "702/702 [==============================] - 56s 80ms/step - loss: 0.2202 - accuracy: 0.9074 - val_loss: 0.5984 - val_accuracy: 0.7864\n",
      "Epoch 16/20\n",
      "702/702 [==============================] - 58s 82ms/step - loss: 0.2135 - accuracy: 0.9092 - val_loss: 0.6226 - val_accuracy: 0.7784\n",
      "Epoch 17/20\n",
      "702/702 [==============================] - 56s 79ms/step - loss: 0.2088 - accuracy: 0.9109 - val_loss: 0.6666 - val_accuracy: 0.7695\n",
      "Epoch 18/20\n",
      "702/702 [==============================] - 61s 87ms/step - loss: 0.1997 - accuracy: 0.9156 - val_loss: 0.6657 - val_accuracy: 0.7816\n",
      "Epoch 19/20\n",
      "702/702 [==============================] - 59s 85ms/step - loss: 0.1935 - accuracy: 0.9195 - val_loss: 0.6565 - val_accuracy: 0.7816\n",
      "Epoch 20/20\n",
      "702/702 [==============================] - 60s 85ms/step - loss: 0.1886 - accuracy: 0.9200 - val_loss: 0.7142 - val_accuracy: 0.7792\n"
     ]
    }
   ],
   "source": [
    "# Train model.\n",
    "history = model.fit(\n",
    "    X,\n",
    "    y,\n",
    "    batch_size=32,\n",
    "    validation_split=0.1,\n",
    "    epochs=20\n",
    ")"
   ],
   "metadata": {
    "collapsed": false,
    "pycharm": {
     "name": "#%%\n"
    }
   }
  },
  {
   "cell_type": "code",
   "execution_count": 72,
   "outputs": [],
   "source": [
    "history_dict = history.history"
   ],
   "metadata": {
    "collapsed": false,
    "pycharm": {
     "name": "#%%\n"
    }
   }
  },
  {
   "cell_type": "code",
   "execution_count": 73,
   "outputs": [
    {
     "data": {
      "text/plain": "<Figure size 432x288 with 1 Axes>",
      "image/png": "[encoded data removed]"
     },
     "metadata": {
      "needs_background": "light"
     },
     "output_type": "display_data"
    }
   ],
   "source": [
    "loss: list = history_dict['loss']\n",
    "val_loss: list = history_dict['val_loss']\n",
    "epochs= range(1, len(loss) + 1)\n",
    "\n",
    "blue_dots = 'bo'\n",
    "solid_red_line = 'r'\n",
    "\n",
    "plt.plot(epochs, loss, blue_dots, label = 'Training loss')\n",
    "plt.plot(epochs, val_loss, solid_red_line, label = 'Validation loss')\n",
    "plt.title('Training and validation loss')\n",
    "plt.xlabel('Epochs')\n",
    "plt.ylabel('Loss')\n",
    "plt.legend()\n",
    "plt.show()"
   ],
   "metadata": {
    "collapsed": false,
    "pycharm": {
     "name": "#%%\n"
    }
   }
  },
  {
   "cell_type": "code",
   "execution_count": 74,
   "outputs": [
    {
     "data": {
      "text/plain": "<Figure size 432x288 with 1 Axes>",
      "image/png": "[encoded data removed]"
     },
     "metadata": {
      "needs_background": "light"
     },
     "output_type": "display_data"
    }
   ],
   "source": [
    "plt.clf()\n",
    "\n",
    "acc = history_dict['accuracy']\n",
    "val_acc = history_dict['val_accuracy']\n",
    "\n",
    "epochs = range(1, len(acc) + 1)\n",
    "\n",
    "blue_dots = 'bo'\n",
    "solid_blue_line = 'b'\n",
    "\n",
    "plt.plot(epochs, acc, blue_dots, label = 'Training acc')\n",
    "plt.plot(epochs, val_acc, solid_blue_line, label = 'Validation acc')\n",
    "plt.title('Training and validation acc')\n",
    "plt.xlabel('Epochs')\n",
    "plt.ylabel('Accuracy')\n",
    "plt.legend()\n",
    "\n",
    "plt.show()"
   ],
   "metadata": {
    "collapsed": false,
    "pycharm": {
     "name": "#%%\n"
    }
   }
  }
 ],
 "metadata": {
  "kernelspec": {
   "display_name": "Python 3",
   "language": "python",
   "name": "python3"
  },
  "language_info": {
   "codemirror_mode": {
    "name": "ipython",
    "version": 2
   },
   "file_extension": ".py",
   "mimetype": "text/x-python",
   "name": "python",
   "nbconvert_exporter": "python",
   "pygments_lexer": "ipython2",
   "version": "2.7.6"
  }
 },
 "nbformat": 4,
 "nbformat_minor": 0
}