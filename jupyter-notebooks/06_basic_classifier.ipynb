{
 "cells": [
  {
   "cell_type": "markdown",
   "metadata": {
    "pycharm": {
     "name": "#%% md\n"
    }
   },
   "source": [
    "#### Intro\n",
    "\n",
    "In this note-book I built a very simple classifier for classifying violin and guitar samples. For demonstration purposes,\n",
    "the data set used is only 120 samples. 50 guitar samples and 50 violin samples, and the rest for testing. This is a\n",
    "very small dataset and therefore the model starts to over-fit very quickly. More dynamic model build systems will be\n",
    "explored in the future.\n",
    "\n",
    "Dataset source: [Philharmonia Data Set](https://philharmonia.co.uk/resources/sound-samples/)\n",
    "\n",
    "A neat package called [kapre](https://github.com/keunwoochoi/kapre) was explored. This packaged has a number of custom\n",
    "tensorflow.keras.layers.Layer objects for processing audio on the GPU as part of the model's architecture. In our case\n",
    "we are computing the mel-spectrogram transform as if it were the first layer in our network. This means the input for\n",
    "the network is just raw audio. This eliminated any pre-processing we would have had to do.\n",
    "\n",
    "Package source: https://github.com/keunwoochoi/kapre\n",
    "\n",
    "#### Load data from previous notebook"
   ]
  },
  {
   "cell_type": "code",
   "execution_count": 1,
   "metadata": {
    "pycharm": {
     "name": "#%%\n"
    }
   },
   "outputs": [],
   "source": [
    "import pickle\n",
    "import random\n",
    "from typing import List, Tuple\n",
    "\n",
    "import numpy as np\n",
    "from kapre.composed import get_melspectrogram_layer\n",
    "from tensorflow.keras import Sequential\n",
    "from tensorflow.keras.activations import relu, sigmoid\n",
    "from tensorflow.keras.callbacks import History\n",
    "from tensorflow.keras.layers import Conv2D, Dense, Flatten, MaxPooling2D\n",
    "from tensorflow.keras.losses import BinaryCrossentropy\n",
    "from tensorflow.keras.optimizers import Adam\n",
    "\n",
    "import utils.constants as consts\n",
    "from ai_tools.displays import display_optimal_epoch_and_metrics, plot_learning_metrics\n",
    "from utils.helpers import Data\n",
    "\n",
    "with open('../pickled-data/train_data.pickle', 'rb') as file_handler:  # Train data.\n",
    "    train_data: List[Data] = pickle.load(file_handler)\n",
    "\n",
    "with open('../pickled-data/test_data.pickle', 'rb') as file_handler:  # Test data.\n",
    "    test_data: List[Data] = pickle.load(file_handler)"
   ]
  },
  {
   "cell_type": "markdown",
   "metadata": {
    "pycharm": {
     "name": "#%% md\n"
    }
   },
   "source": [
    "#### Build model."
   ]
  },
  {
   "cell_type": "code",
   "execution_count": 2,
   "metadata": {
    "pycharm": {
     "name": "#%%\n"
    }
   },
   "outputs": [],
   "source": [
    "def build_simple_cnn() -> Sequential:\n",
    "    \"\"\"\n",
    "    :return: A compiled tensorflow.keras.Model ready for fitting.\n",
    "    \"\"\"\n",
    "\n",
    "    # Shape: (num_samples, sample_rate, channels)\n",
    "    input_shape: Tuple[int, int] = (consts.SAMPLE_RATE, 1)  # Mono audio so 1 channel.\n",
    "\n",
    "    # First layer transforms raw audio into a mel-spectrogram in GPU.\n",
    "    mel_layer: Sequential = get_melspectrogram_layer(\n",
    "        input_shape=input_shape,\n",
    "        n_fft=consts.NUM_FFT,\n",
    "        hop_length=consts.MEL_HOP_LEN,\n",
    "        sample_rate=consts.SAMPLE_RATE,\n",
    "        return_decibel=True,\n",
    "        input_data_format='channels_last',\n",
    "        output_data_format='channels_last'\n",
    "    )\n",
    "\n",
    "    model = Sequential()\n",
    "\n",
    "    # Mel transformation.\n",
    "    model.add(mel_layer)\n",
    "\n",
    "    # Conv block 1.\n",
    "    model.add(Conv2D(\n",
    "        32,\n",
    "        (3, 3),\n",
    "        strides=(1, 1),\n",
    "        activation=relu\n",
    "    ))\n",
    "    model.add(MaxPooling2D(pool_size=(2, 2)))\n",
    "\n",
    "    # Flatten and a binary output for final layer.\n",
    "    model.add(Flatten())\n",
    "    model.add(Dense(1, activation=sigmoid))\n",
    "\n",
    "    model.compile(\n",
    "        loss=BinaryCrossentropy(),\n",
    "        optimizer=Adam(),\n",
    "        metrics=['accuracy']\n",
    "    )\n",
    "\n",
    "    return model\n"
   ]
  },
  {
   "cell_type": "markdown",
   "metadata": {
    "pycharm": {
     "name": "#%% md\n"
    }
   },
   "source": [
    "#### Train model"
   ]
  },
  {
   "cell_type": "code",
   "execution_count": 3,
   "metadata": {
    "pycharm": {
     "name": "#%%\n"
    }
   },
   "outputs": [
    {
     "name": "stdout",
     "output_type": "stream",
     "text": [
      "Epoch 1/5\n",
      "10/10 [==============================] - 1s 24ms/step - loss: 18.6699 - accuracy: 0.5567 - val_loss: 1.5201 - val_accuracy: 0.4545\n",
      "Epoch 2/5\n",
      "10/10 [==============================] - 0s 6ms/step - loss: 2.3531 - accuracy: 0.7423 - val_loss: 0.7999 - val_accuracy: 0.9091\n",
      "Epoch 3/5\n",
      "10/10 [==============================] - 0s 5ms/step - loss: 0.1154 - accuracy: 0.9278 - val_loss: 0.0784 - val_accuracy: 0.9091\n",
      "Epoch 4/5\n",
      "10/10 [==============================] - 0s 5ms/step - loss: 0.0605 - accuracy: 0.9794 - val_loss: 5.6384e-04 - val_accuracy: 1.0000\n",
      "Epoch 5/5\n",
      "10/10 [==============================] - 0s 5ms/step - loss: 0.0165 - accuracy: 0.9897 - val_loss: 6.6041e-07 - val_accuracy: 1.0000\n"
     ]
    }
   ],
   "source": [
    "simple_cnn: Sequential = build_simple_cnn()\n",
    "\n",
    "random.shuffle(train_data)  # Shuffle data.\n",
    "\n",
    "# Convert data in np.ndarray.\n",
    "X: np.ndarray = np.stack([data.raw_audio for data in train_data])\n",
    "y: np.ndarray = np.stack([data.label for data in train_data])\n",
    "\n",
    "history: History = simple_cnn.fit(\n",
    "    np.array(X),\n",
    "    np.array(y),\n",
    "    epochs=5,\n",
    "    batch_size=10,\n",
    "    validation_split=0.1,  # 10% of data used for validation\n",
    ")"
   ]
  },
  {
   "cell_type": "markdown",
   "metadata": {
    "pycharm": {
     "name": "#%% md\n"
    }
   },
   "source": [
    "#### Visualize results"
   ]
  },
  {
   "cell_type": "code",
   "execution_count": 4,
   "metadata": {
    "pycharm": {
     "name": "#%%\n"
    }
   },
   "outputs": [
    {
     "name": "stdout",
     "output_type": "stream",
     "text": [
      "\n",
      "Optimal Epoch: 5\n",
      "Training Loss: 0.02000        |  Training Accuracy: 0.99000\n",
      "Validation Loss: 0.00000  |  Validation Accuracy: 1.00000\n",
      "\n"
     ]
    },
    {
     "data": {
      "image/png": "[encoded data removed]",
      "text/plain": [
       "<Figure size 640x480 with 1 Axes>"
      ]
     },
     "metadata": {},
     "output_type": "display_data"
    },
    {
     "data": {
      "image/png": "[encoded data removed]",
      "text/plain": [
       "<Figure size 640x480 with 1 Axes>"
      ]
     },
     "metadata": {},
     "output_type": "display_data"
    }
   ],
   "source": [
    "display_optimal_epoch_and_metrics(history)\n",
    "\n",
    "# Train and validation loss.\n",
    "plot_learning_metrics(history, title='Training and validation loss', x_label='Epochs', y_label='Loss',\n",
    "                      metric='loss', line_label='Validation loss', dots_label='Training loss')\n",
    "\n",
    "# Train and validation accuracy.\n",
    "plot_learning_metrics(history, title='Training and validation acc', x_label='Epochs', y_label='Accuracy',\n",
    "                      metric='accuracy', line_label='Validation acc', dots_label='Training acc')"
   ]
  },
  {
   "cell_type": "markdown",
   "metadata": {
    "pycharm": {
     "name": "#%% md\n"
    }
   },
   "source": [
    "#### Evaluate model with test data"
   ]
  },
  {
   "cell_type": "code",
   "execution_count": 5,
   "metadata": {
    "pycharm": {
     "name": "#%%\n"
    }
   },
   "outputs": [
    {
     "name": "stdout",
     "output_type": "stream",
     "text": [
      "2/2 [==============================] - 0s 19ms/step - loss: 0.0360 - accuracy: 0.9815\n"
     ]
    },
    {
     "data": {
      "text/plain": [
       "[0.035980481654405594, 0.9814814925193787]"
      ]
     },
     "execution_count": 5,
     "metadata": {},
     "output_type": "execute_result"
    }
   ],
   "source": [
    "random.shuffle(test_data)\n",
    "\n",
    "X_test: np.ndarray = np.stack([data.raw_audio for data in test_data])\n",
    "y_test: np.ndarray = np.stack([data.label for data in test_data])\n",
    "\n",
    "simple_cnn.evaluate(X_test, y_test)"
   ]
  },
  {
   "cell_type": "markdown",
   "metadata": {},
   "source": [
    "#### Model Architecture"
   ]
  },
  {
   "cell_type": "code",
   "execution_count": 6,
   "metadata": {},
   "outputs": [
    {
     "name": "stdout",
     "output_type": "stream",
     "text": [
      "Model: \"sequential\"\n",
      "_________________________________________________________________\n",
      "Layer (type)                 Output Shape              Param #   \n",
      "=================================================================\n",
      "melspectrogram (Sequential)  (None, 40, 128, 1)        0         \n",
      "_________________________________________________________________\n",
      "conv2d (Conv2D)              (None, 38, 126, 32)       320       \n",
      "_________________________________________________________________\n",
      "max_pooling2d (MaxPooling2D) (None, 19, 63, 32)        0         \n",
      "_________________________________________________________________\n",
      "flatten (Flatten)            (None, 38304)             0         \n",
      "_________________________________________________________________\n",
      "dense (Dense)                (None, 1)                 38305     \n",
      "=================================================================\n",
      "Total params: 38,625\n",
      "Trainable params: 38,625\n",
      "Non-trainable params: 0\n",
      "_________________________________________________________________\n"
     ]
    }
   ],
   "source": [
    "simple_cnn.summary()"
   ]
  }
 ],
 "metadata": {
  "kernelspec": {
   "display_name": "Python 3",
   "language": "python",
   "name": "python3"
  },
  "language_info": {
   "codemirror_mode": {
    "name": "ipython",
    "version": 3
   },
   "file_extension": ".py",
   "mimetype": "text/x-python",
   "name": "python",
   "nbconvert_exporter": "python",
   "pygments_lexer": "ipython3",
   "version": "3.8.10"
  }
 },
 "nbformat": 4,
 "nbformat_minor": 1
}