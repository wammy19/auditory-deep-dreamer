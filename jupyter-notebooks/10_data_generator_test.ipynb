{
 "cells": [
  {
   "cell_type": "code",
   "execution_count": 6,
   "metadata": {
    "pycharm": {
     "name": "#%%\n"
    }
   },
   "outputs": [],
   "source": [
    "import os\n",
    "from typing import List, Tuple\n",
    "\n",
    "import numpy as np\n",
    "from pandas import DataFrame\n",
    "\n",
    "import utils.constants as consts\n",
    "from ai_tools import DataGenerator\n",
    "from ai_tools.helpers import decode_instrument, decode_pitch\n",
    "from utils.audio_tools import create_audio_player\n",
    "\n",
    "path_to_dataset: str = '/datasets/processed_dataset'\n",
    "number_of_samples_for_each_class: int = 50\n",
    "ontology: List[str] = os.listdir(path_to_dataset)\n",
    "ontology_len: int = len(ontology)\n",
    "batch_size: int = 50\n"
   ]
  },
  {
   "cell_type": "markdown",
   "source": [
    "#### Create data generator"
   ],
   "metadata": {
    "collapsed": false
   }
  },
  {
   "cell_type": "code",
   "execution_count": 7,
   "outputs": [],
   "source": [
    "# False shuffle so that we can appropriately test that the path matches the correct audio.\n",
    "data_generator = DataGenerator.from_path_to_audio(\n",
    "    path_to_dataset,\n",
    "    number_of_samples_for_each_class=number_of_samples_for_each_class,\n",
    "    shuffle=False,\n",
    "    batch_size=batch_size,\n",
    "    include_pitch_labels=True\n",
    ")\n",
    "\n",
    "df: DataFrame = data_generator.get_data_frame  # Copy DataFrame that is stored inside the DataGenerator."
   ],
   "metadata": {
    "collapsed": false,
    "pycharm": {
     "name": "#%%\n"
    }
   }
  },
  {
   "cell_type": "code",
   "execution_count": 10,
   "outputs": [
    {
     "name": "stdout",
     "output_type": "stream",
     "text": [
      "Processing /datasets/processed_dataset/synth/synth_E_003856_stretched_segment_7.wav\n",
      "Processing /datasets/processed_dataset/bass/bass_D_005148_stretched_segment_12.wav\n",
      "Processing /datasets/processed_dataset/brass/brass_E_006492_segment_11.wav\n",
      "Processing /datasets/processed_dataset/vocal/vocal_F#_002326_segment_4.wav\n",
      "Processing /datasets/processed_dataset/organ/organ_F#_011082_segment_1.wav\n",
      "Processing /datasets/processed_dataset/bass/bass_C#_000262_segment_1.wav\n",
      "Processing /datasets/processed_dataset/bass/bass_E_001075_stretched_segment_2.wav\n",
      "Processing /datasets/processed_dataset/organ/organ_D#_019962_segment_2.wav\n",
      "Processing /datasets/processed_dataset/vocal/vocal_C#_003766_stretched_segment_17.wav\n",
      "Processing /datasets/processed_dataset/organ/organ_D_004549_segment_6.wav\n",
      "Processing /datasets/processed_dataset/synth/synth_E_002625_stretched_segment_13.wav\n",
      "Processing /datasets/processed_dataset/vocal/vocal_B_001829_segment_11.wav\n",
      "Processing /datasets/processed_dataset/brass/brass_C_009450_segment_6.wav\n",
      "Processing /datasets/processed_dataset/brass/brass_A_003126_segment_5.wav\n",
      "Processing /datasets/processed_dataset/guitar/guitar_A#_016665_segment_1.wav\n",
      "Processing /datasets/processed_dataset/brass/brass_A_001363_segment_1.wav\n",
      "Processing /datasets/processed_dataset/string/string_G#_004998_segment_0.wav\n",
      "Processing /datasets/processed_dataset/reed/reed_C#_005798_segment_8.wav\n",
      "Processing /datasets/processed_dataset/piano/piano_D_004540_stretched_segment_21.wav\n",
      "Processing /datasets/processed_dataset/bass/bass_A#_001269_stretched_segment_14.wav\n",
      "Processing /datasets/processed_dataset/reed/reed_C#_005202_segment_0.wav\n",
      "Processing /datasets/processed_dataset/string/string_C_004102_segment_2.wav\n",
      "Processing /datasets/processed_dataset/reed/reed_D_010102_segment_5.wav\n",
      "Processing /datasets/processed_dataset/piano/piano_A#_001378_stretched_segment_21.wav\n",
      "Processing /datasets/processed_dataset/bass/bass_A#_007873_stretched_segment_3.wav\n",
      "Processing /datasets/processed_dataset/bass/bass_D_007801_stretched_segment_4.wav\n",
      "Processing /datasets/processed_dataset/string/string_B_014910_segment_6.wav\n",
      "Processing /datasets/processed_dataset/flute/flute_A#_001490_segment_11.wav\n",
      "Processing /datasets/processed_dataset/string/string_C#_019099_segment_6.wav\n",
      "Processing /datasets/processed_dataset/reed/reed_D#_012179_segment_4.wav\n",
      "Processing /datasets/processed_dataset/bass/bass_D_001564_segment_0.wav\n",
      "Processing /datasets/processed_dataset/string/string_F_015655_segment_3.wav\n",
      "Processing /datasets/processed_dataset/brass/brass_C#_012613_segment_2.wav\n",
      "Processing /datasets/processed_dataset/reed/reed_G#_008529_segment_7.wav\n",
      "Processing /datasets/processed_dataset/synth/synth_E_002291_segment_1.wav\n",
      "Processing /datasets/processed_dataset/brass/brass_B_008825_segment_13.wav\n",
      "Processing /datasets/processed_dataset/brass/brass_D#_000260_segment_2.wav\n",
      "Processing /datasets/processed_dataset/vocal/vocal_F_000132_stretched_segment_25.wav\n",
      "Processing /datasets/processed_dataset/string/string_E_018152_segment_5.wav\n",
      "Processing /datasets/processed_dataset/vocal/vocal_D_001995_stretched_segment_11.wav\n",
      "Processing /datasets/processed_dataset/bass/bass_G_008030_stretched_segment_9.wav\n",
      "Processing /datasets/processed_dataset/piano/piano_A#_004564_segment_12.wav\n",
      "Processing /datasets/processed_dataset/guitar/guitar_E_017477_segment_2.wav\n",
      "Processing /datasets/processed_dataset/organ/organ_F_013936_segment_1.wav\n",
      "Processing /datasets/processed_dataset/reed/reed_B_010774_segment_2.wav\n",
      "Processing /datasets/processed_dataset/vocal/vocal_G_000479_stretched_segment_16.wav\n",
      "Processing /datasets/processed_dataset/string/string_D_010451_segment_10.wav\n",
      "Processing /datasets/processed_dataset/string/string_G_006827_segment_8.wav\n",
      "Processing /datasets/processed_dataset/flute/flute_C#_006483_stretched_segment_1.wav\n",
      "Processing /datasets/processed_dataset/guitar/guitar_C#_017042_segment_2.wav\n",
      "Completed\n",
      "Completed\n",
      "Completed\n",
      "Completed\n",
      "Completed\n",
      "Completed\n",
      "Completed\n",
      "Completed\n",
      "Completed\n",
      "Completed\n",
      "Completed\n",
      "Completed\n",
      "Completed\n",
      "Completed\n",
      "Completed\n",
      "Completed\n",
      "Completed\n",
      "Completed\n",
      "Completed\n",
      "Completed\n",
      "Completed\n",
      "Completed\n",
      "Completed\n",
      "Completed\n",
      "Completed\n",
      "Completed\n",
      "Completed\n",
      "Completed\n",
      "Completed\n",
      "Completed\n",
      "Completed\n",
      "Completed\n",
      "Completed\n",
      "Completed\n",
      "Completed\n",
      "Completed\n",
      "Completed\n",
      "Completed\n",
      "Completed\n",
      "Completed\n",
      "Completed\n",
      "Completed\n",
      "Completed\n",
      "Completed\n",
      "Completed\n",
      "Completed\n",
      "Completed\n",
      "Completed\n",
      "Completed\n",
      "Completed\n"
     ]
    }
   ],
   "source": [
    "# Shape of spectrogram.\n",
    "y: int = 1 + consts.SAMPLE_RATE // consts.MEL_HOP_LEN\n",
    "X_shape: Tuple[int, int] = (consts.NUM_MELS, y)\n",
    "\n",
    "# Indexes for grabbing data from DataFrame in DataGenerator as well as a copy of the DataFrame from the DataGenerator.\n",
    "batch_index: int = 1\n",
    "index: int = 1\n",
    "df_index: int = (batch_index * batch_size) + index\n",
    "\n",
    "# Get all data from DataGenerator.\n",
    "mel_spectrogram: np.ndarray = data_generator[batch_index][0][index].reshape(X_shape)\n",
    "decoded_instrument: str = decode_instrument(data_generator[batch_index][1][index])\n",
    "decoded_pitch: str = decode_pitch(data_generator[batch_index][2][index])\n",
    "\n",
    "# Play audio and display instrument and pitch labels.\n",
    "create_audio_player(mel_spectrogram, normalize=True)\n",
    "print(\n",
    "    f'Instrument: {decoded_instrument}\\n'\n",
    "    f'Pitch: {decoded_pitch}'\n",
    ")\n",
    "\n",
    "assert df['instrument'][df_index] == decoded_instrument"
   ],
   "metadata": {
    "collapsed": false,
    "pycharm": {
     "name": "#%%\n"
    }
   }
  }
 ],
 "metadata": {
  "kernelspec": {
   "display_name": "Python 3",
   "language": "python",
   "name": "python3"
  },
  "language_info": {
   "codemirror_mode": {
    "name": "ipython",
    "version": 3
   },
   "file_extension": ".py",
   "mimetype": "text/x-python",
   "name": "python",
   "nbconvert_exporter": "python",
   "pygments_lexer": "ipython3",
   "version": "3.8.10"
  }
 },
 "nbformat": 4,
 "nbformat_minor": 1
}