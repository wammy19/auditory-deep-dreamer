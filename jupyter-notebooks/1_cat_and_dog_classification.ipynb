{
 "cells": [
  {
   "cell_type": "markdown",
   "metadata": {
    "pycharm": {
     "name": "#%% md\n"
    }
   },
   "source": [
    "Cat and Dog image classifier.\n",
    "\n",
    "Dataset source: [https://www.microsoft.com/en-us/download/details.aspx?id=54765](https://www.microsoft.com/en-us/download/details.aspx?id=54765)\n",
    "\n",
    "Tutorial being followed: [https://youtu.be/gT4F3HGYXf4](https://youtu.be/gT4F3HGYXf4)\n",
    "\n",
    "Python3.8"
   ]
  },
  {
   "cell_type": "markdown",
   "metadata": {},
   "source": [
    "### Part 1: Load, process, and organize the data set."
   ]
  },
  {
   "cell_type": "code",
   "execution_count": 1,
   "metadata": {
    "pycharm": {
     "name": "#%%\n"
    }
   },
   "outputs": [
    {
     "name": "stdout",
     "output_type": "stream",
     "text": [
      "Hit:1 http://archive.ubuntu.com/ubuntu focal InRelease\n",
      "Hit:2 http://archive.ubuntu.com/ubuntu focal-updates InRelease             \n",
      "Hit:3 http://archive.ubuntu.com/ubuntu focal-backports InRelease           \n",
      "Ign:4 https://developer.download.nvidia.com/compute/cuda/repos/ubuntu2004/x86_64  InRelease\n",
      "Hit:5 http://security.ubuntu.com/ubuntu focal-security InRelease\n",
      "Ign:6 https://developer.download.nvidia.com/compute/machine-learning/repos/ubuntu2004/x86_64  InRelease\n",
      "Ign:7 https://developer.download.nvidia.com/compute/machine-learning/repos/ubuntu1804/x86_64  InRelease\n",
      "Hit:8 https://developer.download.nvidia.com/compute/cuda/repos/ubuntu2004/x86_64  Release\n",
      "Hit:9 https://developer.download.nvidia.com/compute/machine-learning/repos/ubuntu2004/x86_64  Release\n",
      "Hit:10 https://developer.download.nvidia.com/compute/machine-learning/repos/ubuntu1804/x86_64  Release\n",
      "Reading package lists... Done\n",
      "Reading package lists... Done\n",
      "Building dependency tree       \n",
      "Reading state information... Done\n",
      "libsm6 is already the newest version (2:1.2.3-1).\n",
      "libxext6 is already the newest version (2:1.3.4-0ubuntu1).\n",
      "ffmpeg is already the newest version (7:4.2.4-1ubuntu0.1).\n",
      "0 upgraded, 0 newly installed, 0 to remove and 14 not upgraded.\n",
      "Requirement already satisfied: opencv-python in /usr/local/lib/python3.8/dist-packages (4.5.4.58)\n",
      "Requirement already satisfied: matplotlib in /usr/local/lib/python3.8/dist-packages (3.4.3)\n",
      "Requirement already satisfied: numpy in /usr/local/lib/python3.8/dist-packages (1.19.5)\n",
      "Requirement already satisfied: tensorflow in /usr/local/lib/python3.8/dist-packages (2.6.1)\n",
      "Requirement already satisfied: kiwisolver>=1.0.1 in /usr/local/lib/python3.8/dist-packages (from matplotlib) (1.3.2)\n",
      "Requirement already satisfied: cycler>=0.10 in /usr/local/lib/python3.8/dist-packages (from matplotlib) (0.11.0)\n",
      "Requirement already satisfied: pillow>=6.2.0 in /usr/local/lib/python3.8/dist-packages (from matplotlib) (8.4.0)\n",
      "Requirement already satisfied: pyparsing>=2.2.1 in /usr/local/lib/python3.8/dist-packages (from matplotlib) (2.4.7)\n",
      "Requirement already satisfied: python-dateutil>=2.7 in /usr/local/lib/python3.8/dist-packages (from matplotlib) (2.8.2)\n",
      "Requirement already satisfied: protobuf>=3.9.2 in /usr/local/lib/python3.8/dist-packages (from tensorflow) (3.19.1)\n",
      "Requirement already satisfied: gast==0.4.0 in /usr/local/lib/python3.8/dist-packages (from tensorflow) (0.4.0)\n",
      "Requirement already satisfied: termcolor~=1.1.0 in /usr/local/lib/python3.8/dist-packages (from tensorflow) (1.1.0)\n",
      "Requirement already satisfied: tensorflow-estimator<2.7 in /usr/local/lib/python3.8/dist-packages (from tensorflow) (2.6.0)\n",
      "Requirement already satisfied: opt-einsum~=3.3.0 in /usr/local/lib/python3.8/dist-packages (from tensorflow) (3.3.0)\n",
      "Requirement already satisfied: keras~=2.6 in /usr/local/lib/python3.8/dist-packages (from tensorflow) (2.6.0)\n",
      "Requirement already satisfied: wrapt~=1.12.1 in /usr/local/lib/python3.8/dist-packages (from tensorflow) (1.12.1)\n",
      "Requirement already satisfied: astunparse~=1.6.3 in /usr/local/lib/python3.8/dist-packages (from tensorflow) (1.6.3)\n",
      "Requirement already satisfied: h5py~=3.1.0 in /usr/local/lib/python3.8/dist-packages (from tensorflow) (3.1.0)\n",
      "Requirement already satisfied: six~=1.15.0 in /usr/local/lib/python3.8/dist-packages (from tensorflow) (1.15.0)\n",
      "Requirement already satisfied: typing-extensions~=3.7.4 in /usr/local/lib/python3.8/dist-packages (from tensorflow) (3.7.4.3)\n",
      "Requirement already satisfied: absl-py~=0.10 in /usr/local/lib/python3.8/dist-packages (from tensorflow) (0.15.0)\n",
      "Requirement already satisfied: flatbuffers~=1.12.0 in /usr/local/lib/python3.8/dist-packages (from tensorflow) (1.12)\n",
      "Requirement already satisfied: grpcio<2.0,>=1.37.0 in /usr/local/lib/python3.8/dist-packages (from tensorflow) (1.41.1)\n",
      "Requirement already satisfied: tensorboard~=2.6 in /usr/local/lib/python3.8/dist-packages (from tensorflow) (2.7.0)\n",
      "Requirement already satisfied: google-pasta~=0.2 in /usr/local/lib/python3.8/dist-packages (from tensorflow) (0.2.0)\n",
      "Requirement already satisfied: clang~=5.0 in /usr/local/lib/python3.8/dist-packages (from tensorflow) (5.0)\n",
      "Requirement already satisfied: keras-preprocessing~=1.1.2 in /usr/local/lib/python3.8/dist-packages (from tensorflow) (1.1.2)\n",
      "Requirement already satisfied: wheel~=0.35 in /usr/local/lib/python3.8/dist-packages (from tensorflow) (0.37.0)\n",
      "Requirement already satisfied: requests<3,>=2.21.0 in /usr/lib/python3/dist-packages (from tensorboard~=2.6->tensorflow) (2.22.0)\n",
      "Requirement already satisfied: setuptools>=41.0.0 in /usr/local/lib/python3.8/dist-packages (from tensorboard~=2.6->tensorflow) (58.4.0)\n",
      "Requirement already satisfied: google-auth-oauthlib<0.5,>=0.4.1 in /usr/local/lib/python3.8/dist-packages (from tensorboard~=2.6->tensorflow) (0.4.6)\n",
      "Requirement already satisfied: markdown>=2.6.8 in /usr/local/lib/python3.8/dist-packages (from tensorboard~=2.6->tensorflow) (3.3.4)\n",
      "Requirement already satisfied: tensorboard-data-server<0.7.0,>=0.6.0 in /usr/local/lib/python3.8/dist-packages (from tensorboard~=2.6->tensorflow) (0.6.1)\n",
      "Requirement already satisfied: google-auth<3,>=1.6.3 in /usr/local/lib/python3.8/dist-packages (from tensorboard~=2.6->tensorflow) (2.3.3)\n",
      "Requirement already satisfied: werkzeug>=0.11.15 in /usr/local/lib/python3.8/dist-packages (from tensorboard~=2.6->tensorflow) (2.0.2)\n",
      "Requirement already satisfied: tensorboard-plugin-wit>=1.6.0 in /usr/local/lib/python3.8/dist-packages (from tensorboard~=2.6->tensorflow) (1.8.0)\n",
      "Requirement already satisfied: requests-oauthlib>=0.7.0 in /usr/local/lib/python3.8/dist-packages (from google-auth-oauthlib<0.5,>=0.4.1->tensorboard~=2.6->tensorflow) (1.3.0)\n",
      "Requirement already satisfied: rsa<5,>=3.1.4; python_version >= \"3.6\" in /usr/local/lib/python3.8/dist-packages (from google-auth<3,>=1.6.3->tensorboard~=2.6->tensorflow) (4.7.2)\n",
      "Requirement already satisfied: cachetools<5.0,>=2.0.0 in /usr/local/lib/python3.8/dist-packages (from google-auth<3,>=1.6.3->tensorboard~=2.6->tensorflow) (4.2.4)\n",
      "Requirement already satisfied: pyasn1-modules>=0.2.1 in /usr/local/lib/python3.8/dist-packages (from google-auth<3,>=1.6.3->tensorboard~=2.6->tensorflow) (0.2.8)\n",
      "Requirement already satisfied: oauthlib>=3.0.0 in /usr/local/lib/python3.8/dist-packages (from requests-oauthlib>=0.7.0->google-auth-oauthlib<0.5,>=0.4.1->tensorboard~=2.6->tensorflow) (3.1.1)\n",
      "Requirement already satisfied: pyasn1>=0.1.3 in /usr/local/lib/python3.8/dist-packages (from rsa<5,>=3.1.4; python_version >= \"3.6\"->google-auth<3,>=1.6.3->tensorboard~=2.6->tensorflow) (0.4.8)\n",
      "\u001B[33mWARNING: You are using pip version 20.2.4; however, version 21.3.1 is available.\n",
      "You should consider upgrading via the '/usr/bin/python3 -m pip install --upgrade pip' command.\u001B[0m\n"
     ]
    }
   ],
   "source": [
    "# Dependencies.\n",
    "\n",
    "!apt-get update\n",
    "!apt-get install ffmpeg libsm6 libxext6  -y\n",
    "!pip install opencv-python matplotlib numpy tensorflow"
   ]
  },
  {
   "cell_type": "code",
   "execution_count": 2,
   "metadata": {
    "pycharm": {
     "name": "#%%\n"
    }
   },
   "outputs": [],
   "source": [
    "from dataclasses import dataclass\n",
    "import cv2\n",
    "import numpy as np\n",
    "import os\n",
    "from typing import List\n",
    "\n",
    "DATA_DIRECTORY = '/data-sets/PetImages'\n",
    "PICKLED_DATA = '/pickled-data'\n",
    "MODELS_SAVING_LOCATION = '/models'\n",
    "CATEGORIES = ['Dog', 'Cat']\n",
    "IMG_SIZE = 50"
   ]
  },
  {
   "cell_type": "markdown",
   "metadata": {
    "pycharm": {
     "name": "#%% md\n"
    }
   },
   "source": [
    "Small data structure to neatly store features and labels and keep things type safe."
   ]
  },
  {
   "cell_type": "code",
   "execution_count": 3,
   "metadata": {
    "pycharm": {
     "name": "#%%\n"
    }
   },
   "outputs": [],
   "source": [
    "@dataclass\n",
    "class Data:\n",
    "    feature: np.ndarray\n",
    "    label: int"
   ]
  },
  {
   "cell_type": "code",
   "execution_count": 4,
   "metadata": {
    "pycharm": {
     "name": "#%%\n"
    }
   },
   "outputs": [],
   "source": [
    "def create_training_dataset(date_set_path: str, img_size: int = 100) -> List[Data]:\n",
    "    \"\"\"\n",
    "    :param date_set_path:\n",
    "    :param img_size:\n",
    "    :return: List of encoded data set with labels - List[List[np.ndarray, int]]\n",
    "\n",
    "    Loops over the 'Dog' and 'Cat' folders in the data set and returns them as a list with their labels.\n",
    "    \"\"\"\n",
    "\n",
    "    encoded_data_set: List[Data] = []\n",
    "\n",
    "    for category in CATEGORIES:\n",
    "        path_to_image: str = os.path.join(date_set_path, category)\n",
    "        class_num: int = CATEGORIES.index(category)\n",
    "\n",
    "        for img in os.listdir(path_to_image):\n",
    "            try:\n",
    "                # Encode data and resize image.\n",
    "                img_array: np.ndarray = cv2.imread(os.path.join(path_to_image, img), cv2.IMREAD_GRAYSCALE)\n",
    "                resized_img: np.ndarray = cv2.resize(img_array, (img_size, img_size))\n",
    "\n",
    "                # Image array, and it's label.\n",
    "                encoded_data_set.append(Data(resized_img, class_num))\n",
    "\n",
    "            except Exception:  # A few images are causing an issue, we are just ignoring these.\n",
    "                pass\n",
    "\n",
    "    return encoded_data_set"
   ]
  },
  {
   "cell_type": "code",
   "execution_count": 5,
   "metadata": {
    "pycharm": {
     "name": "#%%\n"
    }
   },
   "outputs": [
    {
     "name": "stdout",
     "output_type": "stream",
     "text": [
      "24946\n"
     ]
    }
   ],
   "source": [
    "training_data: List[Data] = create_training_dataset(DATA_DIRECTORY, IMG_SIZE)\n",
    "\n",
    "print(len(training_data))  # Check if training_date is populated."
   ]
  },
  {
   "cell_type": "code",
   "execution_count": 6,
   "metadata": {
    "pycharm": {
     "name": "#%%\n"
    }
   },
   "outputs": [],
   "source": [
    "import random\n",
    "\n",
    "random.shuffle(training_data)\n"
   ]
  },
  {
   "cell_type": "markdown",
   "metadata": {},
   "source": [
    "Uppercase 'X' typically are the features, and lower case 'y' are the labels."
   ]
  },
  {
   "cell_type": "code",
   "execution_count": 7,
   "metadata": {
    "pycharm": {
     "name": "#%%\n"
    }
   },
   "outputs": [],
   "source": [
    "X: List[np.ndarray] = []\n",
    "y: List[int] = []\n",
    "\n",
    "for data in training_data:\n",
    "    X.append(data.feature)\n",
    "    y.append(data.label)\n",
    "\n",
    "# -1 in this case means any number of images. The last number is 1 because we converted the images into gray scale.\n",
    "X: np.ndarray = np.array(X).reshape((-1, IMG_SIZE, IMG_SIZE, 1))\n",
    "y: np.ndarray = np.array(y)"
   ]
  },
  {
   "cell_type": "markdown",
   "metadata": {
    "pycharm": {
     "name": "#%% md\n"
    }
   },
   "source": [
    "Use pickle to store processed, and organized dataset."
   ]
  },
  {
   "cell_type": "code",
   "execution_count": 8,
   "metadata": {
    "pycharm": {
     "name": "#%%\n"
    }
   },
   "outputs": [],
   "source": [
    "import pickle\n",
    "\n",
    "with open(f'{PICKLED_DATA}/X.pickle', 'wb') as file:\n",
    "    pickle.dump(X, file)\n",
    "\n",
    "with open(f'{PICKLED_DATA}/y.pickle', 'wb') as file:\n",
    "    pickle.dump(y, file)"
   ]
  },
  {
   "cell_type": "markdown",
   "metadata": {
    "pycharm": {
     "name": "#%% md\n"
    }
   },
   "source": [
    "### Part 2: Build and train the model."
   ]
  },
  {
   "cell_type": "code",
   "execution_count": 9,
   "metadata": {
    "pycharm": {
     "name": "#%%\n"
    }
   },
   "outputs": [],
   "source": [
    "# Use pickle to load the saved data.\n",
    "\n",
    "with open(f'/{PICKLED_DATA}/X.pickle', 'rb') as file:\n",
    "    X: np.ndarray = pickle.load(file)\n",
    "    X = X / 255.0  # Normalize the data.\n",
    "\n",
    "with open(f'/{PICKLED_DATA}/y.pickle', 'rb') as file:\n",
    "    y: List[np.ndarray] = pickle.load(file)"
   ]
  },
  {
   "cell_type": "code",
   "execution_count": 10,
   "metadata": {
    "pycharm": {
     "name": "#%%\n"
    }
   },
   "outputs": [],
   "source": [
    "from tensorflow.keras.models import Sequential\n",
    "from tensorflow.keras.layers import Dense, Dropout, Flatten, Conv2D, MaxPooling2D\n",
    "from tensorflow.keras.activations import relu, sigmoid\n",
    "from tensorflow.keras.losses import BinaryCrossentropy\n",
    "from tensorflow.keras.optimizers import Adam\n",
    "from tensorflow.keras.callbacks import TensorBoard\n",
    "from time import time"
   ]
  },
  {
   "cell_type": "markdown",
   "metadata": {
    "pycharm": {
     "name": "#%% md\n"
    }
   },
   "source": [
    "Training a number of models."
   ]
  },
  {
   "cell_type": "code",
   "execution_count": 11,
   "metadata": {
    "pycharm": {
     "name": "#%%\n"
    }
   },
   "outputs": [
    {
     "name": "stdout",
     "output_type": "stream",
     "text": [
      "3-conv-64-nodes-0-dense-1636389079\n",
      "Epoch 1/10\n",
      "546/546 [==============================] - 5s 7ms/step - loss: 0.6440 - accuracy: 0.6212 - val_loss: 0.6068 - val_accuracy: 0.6629\n",
      "Epoch 2/10\n",
      "546/546 [==============================] - 3s 6ms/step - loss: 0.5680 - accuracy: 0.7098 - val_loss: 0.5362 - val_accuracy: 0.7305\n",
      "Epoch 3/10\n",
      "546/546 [==============================] - 3s 6ms/step - loss: 0.5031 - accuracy: 0.7556 - val_loss: 0.5300 - val_accuracy: 0.7322\n",
      "Epoch 4/10\n",
      "546/546 [==============================] - 3s 6ms/step - loss: 0.4684 - accuracy: 0.7822 - val_loss: 0.4884 - val_accuracy: 0.7626\n",
      "Epoch 5/10\n",
      "546/546 [==============================] - 3s 6ms/step - loss: 0.4408 - accuracy: 0.7947 - val_loss: 0.4654 - val_accuracy: 0.7779\n",
      "Epoch 6/10\n",
      "546/546 [==============================] - 3s 6ms/step - loss: 0.4157 - accuracy: 0.8112 - val_loss: 0.4584 - val_accuracy: 0.7842\n",
      "Epoch 7/10\n",
      "546/546 [==============================] - 3s 6ms/step - loss: 0.3935 - accuracy: 0.8225 - val_loss: 0.4439 - val_accuracy: 0.7952\n",
      "Epoch 8/10\n",
      "546/546 [==============================] - 3s 6ms/step - loss: 0.3623 - accuracy: 0.8405 - val_loss: 0.4368 - val_accuracy: 0.8005\n",
      "Epoch 9/10\n",
      "546/546 [==============================] - 3s 6ms/step - loss: 0.3424 - accuracy: 0.8512 - val_loss: 0.4332 - val_accuracy: 0.7941\n",
      "Epoch 10/10\n",
      "546/546 [==============================] - 3s 6ms/step - loss: 0.3174 - accuracy: 0.8599 - val_loss: 0.4574 - val_accuracy: 0.7984\n",
      "INFO:tensorflow:Assets written to: /models/cat_dog_classier.model/assets\n"
     ]
    }
   ],
   "source": [
    "# Model configurations.\n",
    "dense_layers = [0]\n",
    "layer_sizes = [64]\n",
    "conv_layers = [3]\n",
    "history = None\n",
    "\n",
    "for dense_layer in dense_layers:\n",
    "    for layer_size in layer_sizes:\n",
    "        for conv_layer in conv_layers:\n",
    "            NAME: str = f'{conv_layer}-conv-{layer_size}-nodes-{dense_layer}-dense-{int(time())}'\n",
    "            print(NAME)\n",
    "\n",
    "            # Set up tensorboard logs.\n",
    "            tensorboard = TensorBoard(\n",
    "                log_dir=f'/tensorboard-logs/{NAME}'\n",
    "            )\n",
    "\n",
    "            model = Sequential()\n",
    "            model.add(Conv2D(layer_size, (3, 3), input_shape=X.shape[1:], activation=relu))\n",
    "            model.add(MaxPooling2D(pool_size=(2, 2)))\n",
    "\n",
    "            # Add convolution layers.\n",
    "            for i in range(conv_layer - 1):\n",
    "                model.add(Conv2D(layer_size, (3, 3), activation=relu))\n",
    "                model.add(MaxPooling2D(pool_size=(2, 2)))\n",
    "\n",
    "            model.add(Flatten())\n",
    "\n",
    "            # Add Dense Layers.\n",
    "            for i in range(dense_layer):\n",
    "                model.add(Dense(512, activation=relu))\n",
    "\n",
    "            model.add(Dense(1, activation=sigmoid))\n",
    "\n",
    "            model.compile(\n",
    "                loss=BinaryCrossentropy(),\n",
    "                optimizer=Adam(),\n",
    "                metrics=['accuracy']\n",
    "            )\n",
    "\n",
    "            # Train model.\n",
    "            history = model.fit(\n",
    "                X,\n",
    "                y,\n",
    "                batch_size=32,\n",
    "                validation_split=0.3,\n",
    "                epochs=10,\n",
    "                callbacks=[\n",
    "                    tensorboard\n",
    "                ]\n",
    "            )\n",
    "\n",
    "            model.save(f'{MODELS_SAVING_LOCATION}/cat_dog_classier.model')"
   ]
  },
  {
   "cell_type": "code",
   "execution_count": 12,
   "metadata": {},
   "outputs": [],
   "source": [
    "history_dict = history.history"
   ]
  },
  {
   "cell_type": "code",
   "execution_count": 13,
   "metadata": {
    "pycharm": {
     "name": "#%%\n"
    }
   },
   "outputs": [
    {
     "data": {
      "image/png": "[encoded data removed]",
      "text/plain": [
       "<Figure size 640x480 with 1 Axes>"
      ]
     },
     "metadata": {},
     "output_type": "display_data"
    }
   ],
   "source": [
    "from matplotlib import pyplot as plt\n",
    "\n",
    "loss: list = history_dict['loss']\n",
    "val_loss: list = history_dict['val_loss']\n",
    "epochs = range(1, len(loss) + 1)\n",
    "\n",
    "red_line = 'ro'\n",
    "blue_line = 'b'\n",
    "\n",
    "\n",
    "plt.clf()\n",
    "plt.plot(epochs, loss, red_line, label='Training loss')\n",
    "plt.plot(epochs, val_loss, blue_line, label='Validation loss')\n",
    "plt.axhline(y=1)\n",
    "plt.title('Training and validation loss')\n",
    "plt.xlabel('Epochs')\n",
    "plt.ylabel('Loss')\n",
    "plt.legend()\n",
    "plt.show()"
   ]
  },
  {
   "cell_type": "code",
   "execution_count": 14,
   "metadata": {
    "pycharm": {
     "name": "#%%\n"
    }
   },
   "outputs": [
    {
     "data": {
      "image/png": "[encoded data removed]",
      "text/plain": [
       "<Figure size 640x480 with 1 Axes>"
      ]
     },
     "metadata": {},
     "output_type": "display_data"
    }
   ],
   "source": [
    "acc = history_dict['accuracy']\n",
    "val_acc = history_dict['val_accuracy']\n",
    "\n",
    "epochs = range(1, len(acc) + 1)\n",
    "\n",
    "red_line = 'ro'\n",
    "blue_line = 'b'\n",
    "\n",
    "plt.clf()\n",
    "plt.plot(epochs, acc, red_line, label='Training acc')\n",
    "plt.plot(epochs, val_acc, blue_line, label='Validation acc')\n",
    "plt.title('Training and validation acc')\n",
    "plt.xlabel('Epochs')\n",
    "plt.ylabel('Accuracy')\n",
    "plt.legend()\n",
    "\n",
    "plt.show()"
   ]
  }
 ],
 "metadata": {
  "kernelspec": {
   "display_name": "Python 3",
   "language": "python",
   "name": "python3"
  },
  "language_info": {
   "codemirror_mode": {
    "name": "ipython",
    "version": 3
   },
   "file_extension": ".py",
   "mimetype": "text/x-python",
   "name": "python",
   "nbconvert_exporter": "python",
   "pygments_lexer": "ipython3",
   "version": "3.8.10"
  }
 },
 "nbformat": 4,
 "nbformat_minor": 1
}