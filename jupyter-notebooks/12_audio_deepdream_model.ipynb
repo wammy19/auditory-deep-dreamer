{
 "cells": [
  {
   "cell_type": "code",
   "execution_count": null,
   "outputs": [],
   "source": [
    "import numpy as np\n",
    "from librosa import load\n",
    "\n",
    "import utils.constants as consts\n",
    "from utils.audio_tools import create_audio_player\n",
    "\n",
    "PATH_TO_SAMPLE: str = '../media/audio/string_segment.wav'"
   ],
   "metadata": {
    "collapsed": false,
    "pycharm": {
     "name": "#%%\n"
    }
   }
  },
  {
   "cell_type": "code",
   "execution_count": null,
   "outputs": [],
   "source": [
    "sample: np.ndarray = load(PATH_TO_SAMPLE, sr=consts.SAMPLE_RATE)[0]\n",
    "create_audio_player(sample)"
   ],
   "metadata": {
    "collapsed": false,
    "pycharm": {
     "name": "#%%\n"
    }
   }
  }
 ],
 "metadata": {
  "kernelspec": {
   "display_name": "Python 3",
   "language": "python",
   "name": "python3"
  },
  "language_info": {
   "codemirror_mode": {
    "name": "ipython",
    "version": 2
   },
   "file_extension": ".py",
   "mimetype": "text/x-python",
   "name": "python",
   "nbconvert_exporter": "python",
   "pygments_lexer": "ipython2",
   "version": "2.7.6"
  }
 },
 "nbformat": 4,
 "nbformat_minor": 0
}